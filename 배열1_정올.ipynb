{
 "cells": [
  {
   "cell_type": "markdown",
   "metadata": {},
   "source": [
    "#### 자가진단 1"
   ]
  },
  {
   "cell_type": "code",
   "execution_count": 1,
   "metadata": {},
   "outputs": [
    {
     "name": "stdout",
     "output_type": "stream",
     "text": [
      "A B C D E F G H I J\n",
      "ABCDEFGHIJ\n"
     ]
    }
   ],
   "source": [
    "a = input().replace(\" \",\"\")\n",
    "print(a)"
   ]
  },
  {
   "cell_type": "markdown",
   "metadata": {},
   "source": [
    "#### 자가진단 2"
   ]
  },
  {
   "cell_type": "code",
   "execution_count": 3,
   "metadata": {},
   "outputs": [
    {
     "name": "stdout",
     "output_type": "stream",
     "text": [
      "1 2 3 4 5 6 7 8 9 10\n"
     ]
    }
   ],
   "source": [
    "nums = [i for i in range(1,11)]\n",
    "print(*nums)"
   ]
  },
  {
   "cell_type": "markdown",
   "metadata": {},
   "source": [
    "#### 자가진단 3"
   ]
  },
  {
   "cell_type": "code",
   "execution_count": 4,
   "metadata": {},
   "outputs": [
    {
     "name": "stdout",
     "output_type": "stream",
     "text": [
      "A B C D E F G H I J\n",
      "A D G\n"
     ]
    }
   ],
   "source": [
    "a = input().replace(\" \",\"\")\n",
    "print(a[0],a[3],a[6])"
   ]
  },
  {
   "cell_type": "markdown",
   "metadata": {},
   "source": [
    "#### 자가진단 4"
   ]
  },
  {
   "cell_type": "code",
   "execution_count": 5,
   "metadata": {},
   "outputs": [
    {
     "name": "stdout",
     "output_type": "stream",
     "text": [
      "1 2 3 4 0\n",
      "4 3 2 1\n"
     ]
    }
   ],
   "source": [
    "nums = list(map(int,input().split(\" \")))\n",
    "ind = nums.index(0)\n",
    "nums = nums[0:ind]\n",
    "print(*nums[::-1])"
   ]
  },
  {
   "cell_type": "markdown",
   "metadata": {},
   "source": [
    "#### 자가진단 5"
   ]
  },
  {
   "cell_type": "code",
   "execution_count": 6,
   "metadata": {},
   "outputs": [
    {
     "name": "stdout",
     "output_type": "stream",
     "text": [
      "1 3\n",
      "168.7\n"
     ]
    }
   ],
   "source": [
    "scores = [85.6, 79.5, 83.1, 80.0, 78.2, 75.0]\n",
    "class1, class2 = list(map(int,input().split(\" \")))\n",
    "print(scores[class1-1]+scores[class2-1])"
   ]
  },
  {
   "cell_type": "markdown",
   "metadata": {},
   "source": [
    "#### 자가진단 6"
   ]
  },
  {
   "cell_type": "code",
   "execution_count": 7,
   "metadata": {},
   "outputs": [
    {
     "name": "stdout",
     "output_type": "stream",
     "text": [
      "5 10 8 55 6 31 12 24 61 2\n",
      "2\n"
     ]
    }
   ],
   "source": [
    "nums = list(map(int,input().rstrip().split(\" \")))\n",
    "nums.sort()\n",
    "print(nums[0])"
   ]
  },
  {
   "cell_type": "markdown",
   "metadata": {},
   "source": [
    "#### 자가진단 7"
   ]
  },
  {
   "cell_type": "code",
   "execution_count": 15,
   "metadata": {},
   "outputs": [
    {
     "name": "stdout",
     "output_type": "stream",
     "text": [
      "88 123 659 15 443 1 99 313 105 48\n",
      "99 105\n"
     ]
    }
   ],
   "source": [
    "nums = list(map(int,input().rstrip().split(\" \")))\n",
    "min_ = 10001\n",
    "max_ = 0\n",
    "for i in nums:\n",
    "    if i< 100:\n",
    "        if i > max_:\n",
    "            max_ = i\n",
    "    else:\n",
    "        if i < min_:\n",
    "            min_ = i\n",
    "if min_ == 10001:\n",
    "    min_=100\n",
    "if max_ == 0:\n",
    "    max_ = 100\n",
    "print(max_,min_)"
   ]
  },
  {
   "cell_type": "markdown",
   "metadata": {},
   "source": [
    "#### 자가진단 8"
   ]
  },
  {
   "cell_type": "code",
   "execution_count": 16,
   "metadata": {},
   "outputs": [
    {
     "name": "stdout",
     "output_type": "stream",
     "text": [
      "95 100 88 65 76 89 58 93 77 99\n",
      "sum : 446\n",
      "abg : 78.8\n"
     ]
    }
   ],
   "source": [
    "nums = list(map(int,input().rstrip().split(\" \")))\n",
    "nums_odd = nums[0::2]\n",
    "nums_even = nums[1::2]\n",
    "print(\"sum : {}\".format(sum(nums_even)))\n",
    "print(\"avg : {:.1f}\".format(sum(nums_odd)/ len(nums_odd)))"
   ]
  },
  {
   "cell_type": "markdown",
   "metadata": {},
   "source": [
    "#### 자가진단 9"
   ]
  },
  {
   "cell_type": "code",
   "execution_count": 17,
   "metadata": {},
   "outputs": [
    {
     "name": "stdout",
     "output_type": "stream",
     "text": [
      "95 100 88 65 76 89 58 93 77 99\n",
      "100 99 95 93 89 88 77 76 65 58\n"
     ]
    }
   ],
   "source": [
    "nums = list(map(int,input().rstrip().split(\" \")))\n",
    "nums.sort(reverse=True)\n",
    "print(*nums)"
   ]
  },
  {
   "cell_type": "markdown",
   "metadata": {},
   "source": [
    "#### 형성평가 1"
   ]
  },
  {
   "cell_type": "code",
   "execution_count": 20,
   "metadata": {},
   "outputs": [
    {
     "name": "stdout",
     "output_type": "stream",
     "text": [
      "a c d f g t h y u k\n",
      "k u y h t g f d c a\n"
     ]
    }
   ],
   "source": [
    "a = input().strip()\n",
    "print(a[::-1])"
   ]
  },
  {
   "cell_type": "markdown",
   "metadata": {},
   "source": [
    "#### 형성평가 2"
   ]
  },
  {
   "cell_type": "code",
   "execution_count": 21,
   "metadata": {},
   "outputs": [
    {
     "name": "stdout",
     "output_type": "stream",
     "text": [
      "15 20 33 10 9\n",
      "57\n"
     ]
    }
   ],
   "source": [
    "nums = list(map(int,input().rstrip().split(\" \")))\n",
    "print(sum(nums[0::2]))"
   ]
  },
  {
   "cell_type": "markdown",
   "metadata": {},
   "source": [
    "#### 형성평가 3"
   ]
  },
  {
   "cell_type": "code",
   "execution_count": 22,
   "metadata": {},
   "outputs": [
    {
     "name": "stdout",
     "output_type": "stream",
     "text": [
      "10 20 25 66 83 7 22 90 1 100\n",
      "odd : 141\n",
      "even : 283\n"
     ]
    }
   ],
   "source": [
    "nums = list(map(int,input().rstrip().split(\" \")))\n",
    "nums_odd = nums[0::2]\n",
    "nums_even = nums[1::2]\n",
    "print(\"odd : {}\".format(sum(nums_odd)))\n",
    "print(\"even : {}\".format(sum(nums_even)))"
   ]
  },
  {
   "cell_type": "markdown",
   "metadata": {},
   "source": [
    "#### 형성평가 4"
   ]
  },
  {
   "cell_type": "code",
   "execution_count": 27,
   "metadata": {},
   "outputs": [
    {
     "name": "stdout",
     "output_type": "stream",
     "text": [
      "30 20 10 60 80 -1\n",
      "10 60 80\n"
     ]
    }
   ],
   "source": [
    "nums = list(map(int,input().rstrip().split(\" \")))\n",
    "ind = nums.index(-1)\n",
    "if ind <= 2:\n",
    "    print(*nums[:ind])\n",
    "else:\n",
    "    print(*nums[ind-3:ind])"
   ]
  },
  {
   "cell_type": "markdown",
   "metadata": {},
   "source": [
    "#### 형성평가 5"
   ]
  },
  {
   "cell_type": "code",
   "execution_count": 30,
   "metadata": {},
   "outputs": [
    {
     "name": "stdout",
     "output_type": "stream",
     "text": [
      "23.2 39.6 66.4 50.0 45.6 48.0\n",
      "45.5\n"
     ]
    }
   ],
   "source": [
    "nums = list(map(float,input().rstrip().split(\" \")))\n",
    "print(\"{:.1f}\".format(sum(nums)/6))"
   ]
  },
  {
   "cell_type": "markdown",
   "metadata": {},
   "source": [
    "#### 형성평가 6"
   ]
  },
  {
   "cell_type": "code",
   "execution_count": 36,
   "metadata": {},
   "outputs": [
    {
     "name": "stdout",
     "output_type": "stream",
     "text": [
      "J\n",
      "0\n"
     ]
    }
   ],
   "source": [
    "str_ = \"JUNGOL\"\n",
    "s = input().strip()\n",
    "if s in str_:\n",
    "    print(str_.find(s))\n",
    "else:\n",
    "    print(\"none\")"
   ]
  },
  {
   "cell_type": "code",
   "execution_count": null,
   "metadata": {},
   "outputs": [],
   "source": []
  }
 ],
 "metadata": {
  "kernelspec": {
   "display_name": "Python 3",
   "language": "python",
   "name": "python3"
  },
  "language_info": {
   "codemirror_mode": {
    "name": "ipython",
    "version": 3
   },
   "file_extension": ".py",
   "mimetype": "text/x-python",
   "name": "python",
   "nbconvert_exporter": "python",
   "pygments_lexer": "ipython3",
   "version": "3.6.5"
  }
 },
 "nbformat": 4,
 "nbformat_minor": 2
}
