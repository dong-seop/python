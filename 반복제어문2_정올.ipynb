{
 "cells": [
  {
   "cell_type": "markdown",
   "metadata": {},
   "source": [
    "##### 자가진단1"
   ]
  },
  {
   "cell_type": "code",
   "execution_count": 1,
   "metadata": {},
   "outputs": [
    {
     "name": "stdout",
     "output_type": "stream",
     "text": [
      "a\n",
      "aaaaaaaaaaaaaaaaaaaa\n"
     ]
    }
   ],
   "source": [
    "a = input().rstrip()\n",
    "print(a*20)"
   ]
  },
  {
   "cell_type": "markdown",
   "metadata": {},
   "source": [
    "##### 자가진단2"
   ]
  },
  {
   "cell_type": "code",
   "execution_count": 2,
   "metadata": {},
   "outputs": [
    {
     "name": "stdout",
     "output_type": "stream",
     "text": [
      "10 11 12 13 14 15 16 17 18 19 20\n"
     ]
    }
   ],
   "source": [
    "print(*[i for i in range(10,21)])"
   ]
  },
  {
   "cell_type": "markdown",
   "metadata": {},
   "source": [
    "##### 자가진단3"
   ]
  },
  {
   "cell_type": "code",
   "execution_count": 3,
   "metadata": {},
   "outputs": [
    {
     "name": "stdout",
     "output_type": "stream",
     "text": [
      "10\n",
      "2 4 6 8 10\n"
     ]
    }
   ],
   "source": [
    "n = int(input().rstrip())\n",
    "print(*[i for i in range(2,n+1,2)])"
   ]
  },
  {
   "cell_type": "markdown",
   "metadata": {},
   "source": [
    "##### 자가진단4"
   ]
  },
  {
   "cell_type": "code",
   "execution_count": 4,
   "metadata": {},
   "outputs": [
    {
     "name": "stdout",
     "output_type": "stream",
     "text": [
      "95\n",
      "585\n"
     ]
    }
   ],
   "source": [
    "n = int(input().rstrip())\n",
    "print(sum([i for i in range(n,101)]))"
   ]
  },
  {
   "cell_type": "markdown",
   "metadata": {},
   "source": [
    "##### 자가진단5"
   ]
  },
  {
   "cell_type": "code",
   "execution_count": 5,
   "metadata": {},
   "outputs": [
    {
     "name": "stdout",
     "output_type": "stream",
     "text": [
      "10 15 36 99 100 19 46 88 87 13\n",
      "Multiples of 3 : 4\n",
      "Multiples of 5 : 3\n"
     ]
    }
   ],
   "source": [
    "ns = list(map(int,input().rstrip().split(\" \")))\n",
    "n3 = [i for i in ns if i%3==0]\n",
    "n5 = [i for i in ns if i%5==0]\n",
    "print(\"Multiples of 3 : {}\".format(len(n3)))\n",
    "print(\"Multiples of 5 : {}\".format(len(n5)))"
   ]
  },
  {
   "cell_type": "markdown",
   "metadata": {},
   "source": [
    "##### 자가진단6"
   ]
  },
  {
   "cell_type": "code",
   "execution_count": 6,
   "metadata": {},
   "outputs": [
    {
     "name": "stdout",
     "output_type": "stream",
     "text": [
      "4\n",
      "75 80 85 90\n",
      "avg : 82.5\n",
      "pass\n"
     ]
    }
   ],
   "source": [
    "n = int(input())\n",
    "sco = list(map(int,input().rstrip().split(\" \")))\n",
    "avg = sum(sco)/n\n",
    "print(\"avg : {:.1f}\".format(avg))\n",
    "if avg>=80:\n",
    "    print(\"pass\")\n",
    "else:\n",
    "    print(\"fail\")"
   ]
  },
  {
   "cell_type": "markdown",
   "metadata": {},
   "source": [
    "##### 자가진단7"
   ]
  },
  {
   "cell_type": "code",
   "execution_count": 8,
   "metadata": {},
   "outputs": [
    {
     "name": "stdout",
     "output_type": "stream",
     "text": [
      "2 3 4 5 6 \n",
      "3 4 5 6 7 \n",
      "4 5 6 7 8 \n",
      "5 6 7 8 9 \n",
      "6 7 8 9 10 \n"
     ]
    }
   ],
   "source": [
    "for i in range(1,6):\n",
    "    for j in range(1,6):\n",
    "        print(i+j,end=\" \")\n",
    "    print()"
   ]
  },
  {
   "cell_type": "markdown",
   "metadata": {},
   "source": [
    "##### 자가진단 8"
   ]
  },
  {
   "cell_type": "code",
   "execution_count": 9,
   "metadata": {},
   "outputs": [
    {
     "name": "stdout",
     "output_type": "stream",
     "text": [
      "2 * 1 =  2   2 * 2 =  4   2 * 3 =  6   2 * 4 =  8   2 * 5 = 10   \n",
      "3 * 1 =  3   3 * 2 =  6   3 * 3 =  9   3 * 4 = 12   3 * 5 = 15   \n",
      "4 * 1 =  4   4 * 2 =  8   4 * 3 = 12   4 * 4 = 16   4 * 5 = 20   \n"
     ]
    }
   ],
   "source": [
    "for i in range(2,5):\n",
    "    for j in range(1,6):\n",
    "        print(\"{} * {} = {:2d}\".format(i,j,i*j),end=\"   \")\n",
    "    print()"
   ]
  },
  {
   "cell_type": "markdown",
   "metadata": {},
   "source": [
    "##### 형성평가 1"
   ]
  },
  {
   "cell_type": "code",
   "execution_count": 11,
   "metadata": {},
   "outputs": [
    {
     "name": "stdout",
     "output_type": "stream",
     "text": [
      "5\n",
      "JUNGOL\n",
      "JUNGOL\n",
      "JUNGOL\n",
      "JUNGOL\n",
      "JUNGOL\n"
     ]
    }
   ],
   "source": [
    "n = int(input())\n",
    "print(\"JUNGOL\\n\"*n,end=\"\")"
   ]
  },
  {
   "cell_type": "markdown",
   "metadata": {},
   "source": [
    "##### 형성평가 2"
   ]
  },
  {
   "cell_type": "code",
   "execution_count": 16,
   "metadata": {},
   "outputs": [
    {
     "name": "stdout",
     "output_type": "stream",
     "text": [
      "10 5\n",
      "5 6 7 8 9 10 "
     ]
    }
   ],
   "source": [
    "n1,n2 = sorted(list(map(int,input().rstrip().split(\" \"))))\n",
    "for i in range(n1,n2+1):\n",
    "    print(i,end = \" \")"
   ]
  },
  {
   "cell_type": "markdown",
   "metadata": {},
   "source": [
    "##### 형성평가 3"
   ]
  },
  {
   "cell_type": "code",
   "execution_count": 17,
   "metadata": {},
   "outputs": [
    {
     "name": "stdout",
     "output_type": "stream",
     "text": [
      "20\n",
      "50\n"
     ]
    }
   ],
   "source": [
    "n= int(input())\n",
    "print(sum([i for i in range(5,n+1,5)]))"
   ]
  },
  {
   "cell_type": "markdown",
   "metadata": {},
   "source": [
    "##### 형성평가 4"
   ]
  },
  {
   "cell_type": "code",
   "execution_count": 18,
   "metadata": {},
   "outputs": [
    {
     "name": "stdout",
     "output_type": "stream",
     "text": [
      "3\n",
      "99 65 30\n",
      "64.67\n"
     ]
    }
   ],
   "source": [
    "n = int(input())\n",
    "sco = list(map(int,input().rstrip().split(\" \")))\n",
    "avg = sum(sco)/n\n",
    "print(\"{:.2f}\".format(avg))"
   ]
  },
  {
   "cell_type": "markdown",
   "metadata": {},
   "source": [
    "##### 형성평가5"
   ]
  },
  {
   "cell_type": "code",
   "execution_count": 19,
   "metadata": {},
   "outputs": [
    {
     "name": "stdout",
     "output_type": "stream",
     "text": [
      "10 20 30 55 66 77 88 99 100 15\n",
      "even : 6\n",
      "odd : 4\n"
     ]
    }
   ],
   "source": [
    "ns=list(map(int,input().rstrip().split(\" \")))\n",
    "even = odd = 0\n",
    "for i in ns:\n",
    "    if i%2==0:\n",
    "        even+=1\n",
    "    else:\n",
    "        odd+=1\n",
    "print(\"even : {}\".format(even))\n",
    "print(\"odd : {}\".format(odd))"
   ]
  },
  {
   "cell_type": "markdown",
   "metadata": {},
   "source": [
    "##### 형성평가 6"
   ]
  },
  {
   "cell_type": "code",
   "execution_count": 20,
   "metadata": {},
   "outputs": [
    {
     "name": "stdout",
     "output_type": "stream",
     "text": [
      "10 15\n",
      "sum : 37\n",
      "avg : 12.3\n"
     ]
    }
   ],
   "source": [
    "n1,n2 = sorted(list(map(int,input().rstrip().split(\" \"))))\n",
    "tot = 0\n",
    "cnt = 0\n",
    "for i in range(n1,n2+1):\n",
    "    if i%3==0 or i%5==0:\n",
    "        tot+=i       \n",
    "        cnt+=1\n",
    "print(\"sum : {}\".format(tot))\n",
    "print(\"avg : {:.1f}\".format(tot/cnt))"
   ]
  },
  {
   "cell_type": "markdown",
   "metadata": {},
   "source": [
    "##### 형셩평가 7"
   ]
  },
  {
   "cell_type": "code",
   "execution_count": 21,
   "metadata": {},
   "outputs": [
    {
     "name": "stdout",
     "output_type": "stream",
     "text": [
      "5\n",
      "5 10 15 20 25 30 35 40 45 50 "
     ]
    }
   ],
   "source": [
    "n = int(input())\n",
    "for i in range(1,11):\n",
    "    print(n*i,end=\" \")"
   ]
  },
  {
   "cell_type": "markdown",
   "metadata": {},
   "source": [
    "##### 형성평가8"
   ]
  },
  {
   "cell_type": "code",
   "execution_count": 22,
   "metadata": {},
   "outputs": [
    {
     "name": "stdout",
     "output_type": "stream",
     "text": [
      "3 4\n",
      "1 2 3 4 \n",
      "2 4 6 8 \n",
      "3 6 9 12 \n"
     ]
    }
   ],
   "source": [
    "n1,n2 = list(map(int,input().rstrip().split(\" \")))\n",
    "for i in range(1,n1+1):\n",
    "    for j in range(1,n2+1):\n",
    "        print(i*j,end=\" \")\n",
    "    print()"
   ]
  },
  {
   "cell_type": "markdown",
   "metadata": {},
   "source": [
    "##### 형성평가 9"
   ]
  },
  {
   "cell_type": "code",
   "execution_count": 23,
   "metadata": {},
   "outputs": [
    {
     "name": "stdout",
     "output_type": "stream",
     "text": [
      "4\n",
      "(1, 1) (1, 2) (1, 3) (1, 4) \n",
      "(2, 1) (2, 2) (2, 3) (2, 4) \n",
      "(3, 1) (3, 2) (3, 3) (3, 4) \n",
      "(4, 1) (4, 2) (4, 3) (4, 4) \n"
     ]
    }
   ],
   "source": [
    "n = int(input())\n",
    "for i in range(1,n+1):\n",
    "    for j in range(1,n+1):\n",
    "        print(\"({}, {}) \".format(i,j),end=\"\")\n",
    "    print()"
   ]
  },
  {
   "cell_type": "markdown",
   "metadata": {},
   "source": [
    "##### 형성평가 A"
   ]
  },
  {
   "cell_type": "code",
   "execution_count": 28,
   "metadata": {},
   "outputs": [
    {
     "name": "stdout",
     "output_type": "stream",
     "text": [
      "3 5\n",
      "3 * 1 =  3   4 * 1 =  4   5 * 1 =  5   \n",
      "3 * 2 =  6   4 * 2 =  8   5 * 2 = 10   \n",
      "3 * 3 =  9   4 * 3 = 12   5 * 3 = 15   \n",
      "3 * 4 = 12   4 * 4 = 16   5 * 4 = 20   \n",
      "3 * 5 = 15   4 * 5 = 20   5 * 5 = 25   \n",
      "3 * 6 = 18   4 * 6 = 24   5 * 6 = 30   \n",
      "3 * 7 = 21   4 * 7 = 28   5 * 7 = 35   \n",
      "3 * 8 = 24   4 * 8 = 32   5 * 8 = 40   \n",
      "3 * 9 = 27   4 * 9 = 36   5 * 9 = 45   \n"
     ]
    }
   ],
   "source": [
    "n1,n2 = list(map(int,input().rstrip().split(\" \")))\n",
    "if n1>n2:\n",
    "    for i in range(1,10):\n",
    "        for j in range(n1,n2-1,-1):\n",
    "            print(\"{} * {} = {:2d}\".format(j,i,i*j),end=\"   \")\n",
    "        print()\n",
    "else:\n",
    "    for i in range(1,10):\n",
    "        for j in range(n1,n2+1):\n",
    "            print(\"{} * {} = {:2d}\".format(j,i,i*j),end=\"   \")\n",
    "        print()"
   ]
  },
  {
   "cell_type": "markdown",
   "metadata": {},
   "source": [
    "##### 수행평가 1"
   ]
  },
  {
   "cell_type": "code",
   "execution_count": 29,
   "metadata": {},
   "outputs": [
    {
     "name": "stdout",
     "output_type": "stream",
     "text": [
      "A C E G I K M O Q S U W Y "
     ]
    }
   ],
   "source": [
    "n1 = ord('A')\n",
    "n2 = ord('Z')\n",
    "for i in range(n1,n2+1,2):\n",
    "    print(chr(i), end=\" \")    "
   ]
  },
  {
   "cell_type": "markdown",
   "metadata": {},
   "source": [
    "##### 수행평가2"
   ]
  },
  {
   "cell_type": "code",
   "execution_count": 32,
   "metadata": {},
   "outputs": [
    {
     "name": "stdout",
     "output_type": "stream",
     "text": [
      "10 20\n",
      "10 12 14 16 18 20\n",
      "20 18 16 14 12 10\n"
     ]
    }
   ],
   "source": [
    "n1,n2 = list(map(int,input().rstrip().split(\" \")))\n",
    "print(*[i for i in range(n1,n2+1,2)])\n",
    "print(*[i for i in range(n2,n1-1,-2)])"
   ]
  },
  {
   "cell_type": "markdown",
   "metadata": {},
   "source": [
    "##### 수행평가 3"
   ]
  },
  {
   "cell_type": "code",
   "execution_count": 34,
   "metadata": {},
   "outputs": [
    {
     "name": "stdout",
     "output_type": "stream",
     "text": [
      "6\n",
      "6 * 1 =  6\n",
      "6 * 2 = 12\n",
      "6 * 3 = 18\n",
      "6 * 4 = 24\n",
      "6 * 5 = 30\n",
      "6 * 6 = 36\n",
      "6 * 7 = 42\n",
      "6 * 8 = 48\n",
      "6 * 9 = 54\n"
     ]
    }
   ],
   "source": [
    "n = int(input())\n",
    "for i in range(1,10):\n",
    "    print(\"{} * {} = {:2d}\".format(n,i,n*i))"
   ]
  },
  {
   "cell_type": "markdown",
   "metadata": {},
   "source": [
    "##### 수행평가 4"
   ]
  },
  {
   "cell_type": "code",
   "execution_count": null,
   "metadata": {},
   "outputs": [],
   "source": [
    "n = int(input())\n",
    "for i in range(1,10):\n",
    "    print(\"{} * {} = {:2d}\".format(n,i,n*i))"
   ]
  }
 ],
 "metadata": {
  "kernelspec": {
   "display_name": "Python 3",
   "language": "python",
   "name": "python3"
  },
  "language_info": {
   "codemirror_mode": {
    "name": "ipython",
    "version": 3
   },
   "file_extension": ".py",
   "mimetype": "text/x-python",
   "name": "python",
   "nbconvert_exporter": "python",
   "pygments_lexer": "ipython3",
   "version": "3.6.5"
  }
 },
 "nbformat": 4,
 "nbformat_minor": 2
}
