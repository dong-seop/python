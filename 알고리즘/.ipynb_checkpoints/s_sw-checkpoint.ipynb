{
 "cells": [
  {
   "cell_type": "markdown",
   "metadata": {},
   "source": [
    "##### 1979. 어디에 단어가 들어갈 수 있을까"
   ]
  },
  {
   "cell_type": "code",
   "execution_count": 3,
   "metadata": {},
   "outputs": [
    {
     "name": "stdout",
     "output_type": "stream",
     "text": [
      "5 3\n",
      "0 0 1 1 1\n",
      "1 1 1 1 0\n",
      "0 0 1 0 0\n",
      "0 1 1 1 1\n",
      "1 1 1 0 1\n",
      "4\n"
     ]
    }
   ],
   "source": [
    "N,LEN = list(map(int,input().split()))\n",
    "puz = list()\n",
    "for i in range(N):\n",
    "    puz.append(list(map(int,input().split())))\n",
    "\n",
    "stack=[]\n",
    "for i in range(N):\n",
    "    for j in range(N):\n",
    "        if puz[i][j] == 0:\n",
    "            continue        \n",
    "        #우측 탐색\n",
    "        \n",
    "        \n",
    "        "
   ]
  },
  {
   "cell_type": "code",
   "execution_count": null,
   "metadata": {},
   "outputs": [],
   "source": [
    "0 0 1 1 1\n",
    "1 1 1 1 0\n",
    "0 0 1 0 0\n",
    "0 1 1 1 1\n",
    "1 1 1 0 1"
   ]
  }
 ],
 "metadata": {
  "kernelspec": {
   "display_name": "Python 3",
   "language": "python",
   "name": "python3"
  },
  "language_info": {
   "codemirror_mode": {
    "name": "ipython",
    "version": 3
   },
   "file_extension": ".py",
   "mimetype": "text/x-python",
   "name": "python",
   "nbconvert_exporter": "python",
   "pygments_lexer": "ipython3",
   "version": "3.6.5"
  }
 },
 "nbformat": 4,
 "nbformat_minor": 2
}
