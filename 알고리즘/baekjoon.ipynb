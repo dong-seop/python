{
 "cells": [
  {
   "cell_type": "markdown",
   "metadata": {},
   "source": [
    "### 10828 스택"
   ]
  },
  {
   "cell_type": "code",
   "execution_count": null,
   "metadata": {},
   "outputs": [],
   "source": [
    "import sys\n",
    "n = sys.stdin.readline()\n",
    "cmds = sys.stdin.readlines()\n",
    "stack =[]\n",
    "size = 0\n",
    "for cmd in cmds:\n",
    "    cmd = cmd.rstrip()\n",
    "    if cmd =='size':\n",
    "        print(size)\n",
    "    elif cmd=='pop':\n",
    "        try:\n",
    "            print(stack.pop())\n",
    "            size-=1\n",
    "        except:\n",
    "            print('-1')\n",
    "    elif cmd=='top':\n",
    "        if(size):\n",
    "            print(stack[size-1])\n",
    "        else:\n",
    "            print('-1')\n",
    "    elif cmd=='empty':\n",
    "        if size:\n",
    "            print('0')\n",
    "        else:\n",
    "            print('1')\n",
    "    else:\n",
    "        stack.append(int(cmd.split()[1]))\n",
    "        size+=1"
   ]
  },
  {
   "cell_type": "markdown",
   "metadata": {},
   "source": [
    "### 10799 쇠막대기"
   ]
  },
  {
   "cell_type": "code",
   "execution_count": 8,
   "metadata": {},
   "outputs": [
    {
     "name": "stdout",
     "output_type": "stream",
     "text": [
      "4\n",
      "()))\n",
      "NO\n",
      "()()(()\n",
      "NO\n",
      "()((((())\n",
      "NO\n",
      "((((((((()))))\n",
      "NO\n"
     ]
    }
   ],
   "source": [
    "for t in range (int(input())):\n",
    "    a = input().rstrip()\n",
    "    b = []\n",
    "    err = False\n",
    "    for c in a:\n",
    "        if c == '(':\n",
    "            b.append(1)\n",
    "        else:\n",
    "            try:\n",
    "                b.pop()\n",
    "            except IndexError:\n",
    "                err=True\n",
    "                break\n",
    "    if err or len(b) != 0:\n",
    "        print(\"NO\")\n",
    "        err = False\n",
    "    else:\n",
    "        print(\"YES\")"
   ]
  },
  {
   "cell_type": "markdown",
   "metadata": {},
   "source": [
    "### 9012 괄호"
   ]
  },
  {
   "cell_type": "code",
   "execution_count": 7,
   "metadata": {},
   "outputs": [
    {
     "name": "stdout",
     "output_type": "stream",
     "text": [
      "(((()(()()))(())()))(()())\n",
      "24\n"
     ]
    }
   ],
   "source": [
    "string = input()\n",
    "stk = []\n",
    "result=0\n",
    "for i,c in enumerate(string):\n",
    "    if c=='(':\n",
    "        stk.append('(')\n",
    "    else:\n",
    "        stk.pop()\n",
    "        if string[i-1]=='(':\n",
    "            result+=len(stk)\n",
    "        else:\n",
    "            result+=1\n",
    "print(result)"
   ]
  },
  {
   "cell_type": "markdown",
   "metadata": {},
   "source": [
    "### 1406 에디터"
   ]
  },
  {
   "cell_type": "code",
   "execution_count": 2,
   "metadata": {},
   "outputs": [
    {
     "name": "stdout",
     "output_type": "stream",
     "text": [
      "abc\n",
      "0\n",
      "abc\n"
     ]
    }
   ],
   "source": [
    "import sys\n",
    "stk1 = list(input())\n",
    "stk2 = list()\n",
    "for i in range(int(input())):\n",
    "    cmd =  sys.stdin.readline()\n",
    "    if cmd[0]== 'L':\n",
    "        if stk1:\n",
    "            stk2.append(stk1.pop())\n",
    "    elif cmd[0] == 'D':\n",
    "        if stk2:\n",
    "            stk1.append(stk2.pop())\n",
    "    elif cmd[0]=='B':\n",
    "        if stk1:\n",
    "            stk1.pop()\n",
    "    else:\n",
    "        stk1.append(cmd[2])\n",
    "\n",
    "print(''.join(stk1+stk2[::-1]))"
   ]
  },
  {
   "cell_type": "markdown",
   "metadata": {},
   "source": [
    "### 10845 큐"
   ]
  }
 ],
 "metadata": {
  "kernelspec": {
   "display_name": "Python 3",
   "language": "python",
   "name": "python3"
  },
  "language_info": {
   "codemirror_mode": {
    "name": "ipython",
    "version": 3
   },
   "file_extension": ".py",
   "mimetype": "text/x-python",
   "name": "python",
   "nbconvert_exporter": "python",
   "pygments_lexer": "ipython3",
   "version": "3.6.5"
  }
 },
 "nbformat": 4,
 "nbformat_minor": 2
}
