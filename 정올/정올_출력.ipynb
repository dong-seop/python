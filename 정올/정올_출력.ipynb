{
 "cells": [
  {
   "cell_type": "markdown",
   "metadata": {},
   "source": [
    "#### 자가진단 1"
   ]
  },
  {
   "cell_type": "code",
   "execution_count": 1,
   "metadata": {},
   "outputs": [
    {
     "name": "stdout",
     "output_type": "stream",
     "text": [
      "Fun Programming!\n"
     ]
    }
   ],
   "source": [
    "print(\"Fun Programming!\")"
   ]
  },
  {
   "cell_type": "markdown",
   "metadata": {},
   "source": [
    "#### 자가진단 2"
   ]
  },
  {
   "cell_type": "code",
   "execution_count": null,
   "metadata": {},
   "outputs": [],
   "source": [
    "print(\"Programming! It's fun.\")"
   ]
  },
  {
   "cell_type": "markdown",
   "metadata": {},
   "source": [
    "#### 자가진단 3"
   ]
  },
  {
   "cell_type": "code",
   "execution_count": 2,
   "metadata": {},
   "outputs": [
    {
     "name": "stdout",
     "output_type": "stream",
     "text": [
      "My name is Hong Gil Dong.\n",
      "I am 13 years old.\n"
     ]
    }
   ],
   "source": [
    "print(\"My name is Hong Gil Dong.\")\n",
    "print(\"I am 13 years old.\")"
   ]
  },
  {
   "cell_type": "markdown",
   "metadata": {},
   "source": [
    "#### 자가진단 4"
   ]
  },
  {
   "cell_type": "code",
   "execution_count": 3,
   "metadata": {},
   "outputs": [
    {
     "name": "stdout",
     "output_type": "stream",
     "text": [
      "(@) (@)\n",
      "(=^.^=)\n",
      "(-m-m-)\n"
     ]
    }
   ],
   "source": [
    "print(\"(@) (@)\")\n",
    "print(\"(=^.^=)\")\n",
    "print(\"(-m-m-)\")"
   ]
  },
  {
   "cell_type": "markdown",
   "metadata": {},
   "source": [
    "#### 자가진단 5"
   ]
  },
  {
   "cell_type": "code",
   "execution_count": 4,
   "metadata": {},
   "outputs": [
    {
     "name": "stdout",
     "output_type": "stream",
     "text": [
      "I can program well.\n",
      "Dreams come true.\n"
     ]
    }
   ],
   "source": [
    "print(\"I can program well.\")\n",
    "print(\"Dreams come true.\")"
   ]
  },
  {
   "cell_type": "markdown",
   "metadata": {},
   "source": [
    "#### 자가진단 6"
   ]
  },
  {
   "cell_type": "code",
   "execution_count": 5,
   "metadata": {},
   "outputs": [
    {
     "name": "stdout",
     "output_type": "stream",
     "text": [
      "My height\n",
      "170\n",
      "My weight\n",
      "68.600000\n"
     ]
    }
   ],
   "source": [
    "print(\"My height\")\n",
    "print(\"170\")\n",
    "print(\"My weight\")\n",
    "print(\"68.600000\")"
   ]
  },
  {
   "cell_type": "markdown",
   "metadata": {},
   "source": [
    "#### 자가진단 7"
   ]
  },
  {
   "cell_type": "code",
   "execution_count": 7,
   "metadata": {},
   "outputs": [
    {
     "name": "stdout",
     "output_type": "stream",
     "text": [
      "5 Dan\n",
      "5 * 2 = 10\n"
     ]
    }
   ],
   "source": [
    "a = 5\n",
    "print(a,'Dan')\n",
    "print(\"5 * 2 = 10\")"
   ]
  },
  {
   "cell_type": "markdown",
   "metadata": {},
   "source": [
    "#### 자가진단 8"
   ]
  },
  {
   "cell_type": "code",
   "execution_count": 17,
   "metadata": {},
   "outputs": [
    {
     "name": "stdout",
     "output_type": "stream",
     "text": [
      "      item     count     price\n",
      "       pen        20        50\n",
      "      note         5        95\n",
      "    eraser       110        97\n"
     ]
    }
   ],
   "source": [
    "print(\"{:>10s}{:>10s}{:>10s}\".format('item','count','price'))\n",
    "print(\"{:>10s}{:10d}{:10d}\".format('pen',20,50))\n",
    "print(\"{:>10s}{:10d}{:10d}\".format('note',5,95))\n",
    "print(\"{:>10s}{:10d}{:10d}\".format('eraser',110,97))"
   ]
  },
  {
   "cell_type": "markdown",
   "metadata": {},
   "source": [
    "#### 형성평가 1"
   ]
  },
  {
   "cell_type": "code",
   "execution_count": 18,
   "metadata": {},
   "outputs": [
    {
     "name": "stdout",
     "output_type": "stream",
     "text": [
      "My name is Hong\n"
     ]
    }
   ],
   "source": [
    "print('My name is Hong')"
   ]
  },
  {
   "cell_type": "markdown",
   "metadata": {},
   "source": [
    "#### 형성평가 2"
   ]
  },
  {
   "cell_type": "code",
   "execution_count": 19,
   "metadata": {},
   "outputs": [
    {
     "name": "stdout",
     "output_type": "stream",
     "text": [
      "My hometown\n",
      "Flowering mountain\n"
     ]
    }
   ],
   "source": [
    "print('My hometown')\n",
    "print('Flowering mountain')"
   ]
  },
  {
   "cell_type": "markdown",
   "metadata": {},
   "source": [
    "#### 형성평가 3"
   ]
  },
  {
   "cell_type": "code",
   "execution_count": 20,
   "metadata": {},
   "outputs": [
    {
     "name": "stdout",
     "output_type": "stream",
     "text": [
      "TTTTTTTTTT\n",
      "TTTTTTTTTT\n",
      "    TT\n",
      "    TT\n"
     ]
    }
   ],
   "source": [
    "print(\"TTTTTTTTTT\")\n",
    "print(\"TTTTTTTTTT\")\n",
    "print(\"    TT\")\n",
    "print(\"    TT\")"
   ]
  },
  {
   "cell_type": "markdown",
   "metadata": {},
   "source": [
    "#### 형성평가 4"
   ]
  },
  {
   "cell_type": "code",
   "execution_count": 24,
   "metadata": {},
   "outputs": [
    {
     "name": "stdout",
     "output_type": "stream",
     "text": [
      "kor 90\n",
      "mat 80\n",
      "eng 100\n",
      "sum 270\n",
      "avg 90\n"
     ]
    }
   ],
   "source": [
    "print('kor 90')\n",
    "print('mat 80')\n",
    "print('eng 100')\n",
    "print('sum {}'.format(90+80+100))\n",
    "print('avg {:.0f}'.format((90+80+100)/3))"
   ]
  },
  {
   "cell_type": "markdown",
   "metadata": {},
   "source": [
    "#### 형성평가 5"
   ]
  },
  {
   "cell_type": "code",
   "execution_count": 25,
   "metadata": {},
   "outputs": [
    {
     "name": "stdout",
     "output_type": "stream",
     "text": [
      "          Seoul     10,312,545        +91,375\n",
      "          Pusan      3,567,910         +5,868\n",
      "        Incheon      2,758,296        +64,888\n",
      "          Daegu      2,511,676        +17,230\n",
      "        Gwangju      1,454,636        +29,774\n"
     ]
    }
   ],
   "source": [
    "print(\"{:>15s}{:>15s}{:>15s}\".format('Seoul','10,312,545','+91,375'))\n",
    "print(\"{:>15s}{:>15s}{:>15s}\".format('Pusan','3,567,910','+5,868'))\n",
    "print(\"{:>15s}{:>15s}{:>15s}\".format('Incheon','2,758,296','+64,888'))\n",
    "print(\"{:>15s}{:>15s}{:>15s}\".format('Daegu','2,511,676','+17,230'))\n",
    "print(\"{:>15s}{:>15s}{:>15s}\".format('Gwangju','1,454,636','+29,774'))"
   ]
  }
 ],
 "metadata": {
  "kernelspec": {
   "display_name": "Python 3",
   "language": "python",
   "name": "python3"
  },
  "language_info": {
   "codemirror_mode": {
    "name": "ipython",
    "version": 3
   },
   "file_extension": ".py",
   "mimetype": "text/x-python",
   "name": "python",
   "nbconvert_exporter": "python",
   "pygments_lexer": "ipython3",
   "version": "3.6.5"
  }
 },
 "nbformat": 4,
 "nbformat_minor": 2
}
