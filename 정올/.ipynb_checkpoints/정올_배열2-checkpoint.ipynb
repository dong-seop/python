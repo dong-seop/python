{
 "cells": [
  {
   "cell_type": "markdown",
   "metadata": {},
   "source": [
    "### 자가진단 1"
   ]
  },
  {
   "cell_type": "code",
   "execution_count": 3,
   "metadata": {},
   "outputs": [
    {
     "name": "stdout",
     "output_type": "stream",
     "text": [
      "A B C F F F B Z !\n",
      "A : 1\n",
      "B : 2\n",
      "C : 1\n",
      "F : 3\n",
      "Z : 1\n"
     ]
    }
   ],
   "source": [
    "a = input().rstrip().split(\" \")\n",
    "nums = [0]*26\n",
    "for i in a:\n",
    "    if  ord(i)>90 or ord(i)<65:\n",
    "        break\n",
    "    nums[ord(i)-65]+=1\n",
    "for i,n in enumerate(nums):\n",
    "    if n:\n",
    "        print(\"{} : {}\".format(chr(i+65),n))"
   ]
  },
  {
   "cell_type": "markdown",
   "metadata": {},
   "source": [
    "### 자가진단 2"
   ]
  },
  {
   "cell_type": "code",
   "execution_count": 5,
   "metadata": {},
   "outputs": [
    {
     "name": "stdout",
     "output_type": "stream",
     "text": [
      "10 55 3 63 85 61 85 0\n",
      "0 : 1\n",
      "1 : 1\n",
      "5 : 1\n",
      "6 : 2\n",
      "8 : 2\n"
     ]
    }
   ],
   "source": [
    "a = list(map(int,input().split(\" \")))[0:-1]\n",
    "nums = [0]*10\n",
    "for i in a:\n",
    "    nums[i//10]+=1\n",
    "for i,n in enumerate(nums):\n",
    "    if n:\n",
    "        print(\"{} : {}\".format(i,n))"
   ]
  },
  {
   "cell_type": "markdown",
   "metadata": {},
   "source": [
    "### 자가진단 3"
   ]
  },
  {
   "cell_type": "code",
   "execution_count": 9,
   "metadata": {},
   "outputs": [
    {
     "name": "stdout",
     "output_type": "stream",
     "text": [
      "62\n",
      "100 62 38 24 14 10 4 6 -2 "
     ]
    }
   ],
   "source": [
    "nums = [100]\n",
    "nums.append(int(input()))\n",
    "print(*nums,end=\" \")\n",
    "for i in range(2,50):\n",
    "    nums.append(nums[i-2] - nums[i-1])\n",
    "    print(nums[i], end=\" \")\n",
    "    if nums[i]<0:\n",
    "        break"
   ]
  },
  {
   "cell_type": "markdown",
   "metadata": {},
   "source": [
    "### 자가진단 4"
   ]
  },
  {
   "cell_type": "code",
   "execution_count": 12,
   "metadata": {},
   "outputs": [
    {
     "name": "stdout",
     "output_type": "stream",
     "text": [
      " 5    8   10    6    4   \n",
      "11   20    1   13    2   \n",
      " 7    9   14   22    3   \n"
     ]
    }
   ],
   "source": [
    "a=[5,8,10,6,4]\n",
    "b=[11,20,1,13,2]\n",
    "c=[7,9,14,22,3]\n",
    "d = [a,b,c]\n",
    "\n",
    "for i in d:\n",
    "    for j in i:\n",
    "        print(\"{:2d}   \".format(j),end=\"\")\n",
    "    print(\"\")  "
   ]
  },
  {
   "cell_type": "markdown",
   "metadata": {},
   "source": [
    "### 자가진단 5"
   ]
  },
  {
   "cell_type": "code",
   "execution_count": 14,
   "metadata": {},
   "outputs": [
    {
     "name": "stdout",
     "output_type": "stream",
     "text": [
      "first array\n",
      "1 2 3 4\n",
      "5 6 7 8\n",
      "second array\n",
      "1 4 7 8\n",
      "4 6 9 8\n",
      "1 8 21 32\n",
      "20 36 63 64\n"
     ]
    }
   ],
   "source": [
    "print(\"first array\")\n",
    "a = list(map(int,input().rstrip().split(\" \")))\n",
    "b = list(map(int,input().rstrip().split(\" \")))\n",
    "print(\"second array\")\n",
    "c = list(map(int,input().rstrip().split(\" \")))\n",
    "d = list(map(int,input().rstrip().split(\" \")))\n",
    "print(*[i*j for i,j in zip(a, c)])\n",
    "print(*[i*j for i,j in zip(b, d)])"
   ]
  },
  {
   "cell_type": "markdown",
   "metadata": {},
   "source": [
    "### 자가진단 6"
   ]
  },
  {
   "cell_type": "code",
   "execution_count": null,
   "metadata": {},
   "outputs": [],
   "source": [
    "cnt=0\n",
    "for i in range(5):\n",
    "    nums = list(map(int,input().rstrip().split(\" \")))\n",
    "    avg = sum(nums)/4\n",
    "    if avg>=80:\n",
    "        print('pass')\n",
    "        cnt+=1\n",
    "    else:\n",
    "        print('fail')\n",
    "print(\"Successful : {}\".format(cnt))"
   ]
  },
  {
   "cell_type": "markdown",
   "metadata": {},
   "source": [
    "### 자가진단 7"
   ]
  },
  {
   "cell_type": "code",
   "execution_count": 25,
   "metadata": {},
   "outputs": [
    {
     "name": "stdout",
     "output_type": "stream",
     "text": [
      "1 1 1 1 1\n",
      "1 2 3 4 5\n",
      "1 3 6 10 15\n",
      "1 4 10 20 35\n",
      "1 5 15 35 70\n"
     ]
    }
   ],
   "source": [
    "old = [1,1,1,1,1]\n",
    "cur=[0]*5\n",
    "print(*old)\n",
    "for i in range(4):\n",
    "    for j in range(5):\n",
    "        if j==0:\n",
    "            cur[j]=1\n",
    "        else:\n",
    "            cur[j] = cur[j-1]+old[j]\n",
    "    print(*cur)\n",
    "    old=cur"
   ]
  },
  {
   "cell_type": "markdown",
   "metadata": {},
   "source": [
    "### 형성평가 1"
   ]
  },
  {
   "cell_type": "code",
   "execution_count": 26,
   "metadata": {},
   "outputs": [
    {
     "name": "stdout",
     "output_type": "stream",
     "text": [
      "5 6 3 4 5 5 2 2 4 6\n",
      "1 : 0\n",
      "2 : 2\n",
      "3 : 1\n",
      "4 : 2\n",
      "5 : 3\n",
      "6 : 2\n"
     ]
    }
   ],
   "source": [
    "dice = [0]*7\n",
    "nums = list(map(int,input().rstrip().split(\" \")))\n",
    "for i in nums:\n",
    "    dice[i]+=1\n",
    "for i in range(1,7):\n",
    "    print(\"{} : {}\".format(i,dice[i]))"
   ]
  },
  {
   "cell_type": "markdown",
   "metadata": {},
   "source": [
    "### 형성평가 2"
   ]
  },
  {
   "cell_type": "code",
   "execution_count": 4,
   "metadata": {},
   "outputs": [
    {
     "name": "stdout",
     "output_type": "stream",
     "text": [
      "63 80 95 100 46 64 88 0\n",
      "100 : 1 person\n",
      "90 : 1 person\n",
      "80 : 2 person\n",
      "60 : 2 person\n",
      "40 : 1 person\n"
     ]
    }
   ],
   "source": [
    "nums = list(map(int,input().rstrip().split(\" \")))\n",
    "nums = nums[:-1]\n",
    "nums2=[0]*11\n",
    "for num in nums:\n",
    "    nums2[num//10]+=1    \n",
    "\n",
    "nums2 = nums2[::-1]\n",
    "\n",
    "for i, num in enumerate(nums2):\n",
    "    if num:\n",
    "        print(\"{} : {} person\".format((10-i)*10,num))"
   ]
  },
  {
   "cell_type": "markdown",
   "metadata": {},
   "source": [
    "### 형성평가 3"
   ]
  },
  {
   "cell_type": "code",
   "execution_count": 9,
   "metadata": {},
   "outputs": [
    {
     "name": "stdout",
     "output_type": "stream",
     "text": [
      "3 5\n",
      "3 5 8 3 1 4 5 9 4 3\n"
     ]
    }
   ],
   "source": [
    "nums = list(map(int,input().rstrip().split(\" \")))\n",
    "\n",
    "for i in range(2,10):\n",
    "    n = (nums[i-2]+nums[i-1])%10\n",
    "    nums.append(n)\n",
    "print(*nums)"
   ]
  },
  {
   "cell_type": "markdown",
   "metadata": {},
   "source": [
    "### 형성평가 4"
   ]
  },
  {
   "cell_type": "code",
   "execution_count": 8,
   "metadata": {},
   "outputs": [
    {
     "name": "stdout",
     "output_type": "stream",
     "text": [
      "3 5 9\n",
      "2 11 5\n",
      "8 30 10\n",
      "22 5 1\n",
      "111\n"
     ]
    }
   ],
   "source": [
    "nums = [[3,5,9],[2,11,5],[8,30,10],[22,5,1]]\n",
    "tot=0\n",
    "for num in nums:\n",
    "    print(*num)\n",
    "    tot+=sum(num)\n",
    "print(tot)"
   ]
  },
  {
   "cell_type": "markdown",
   "metadata": {},
   "source": [
    "### 형성평가 5"
   ]
  },
  {
   "cell_type": "code",
   "execution_count": 11,
   "metadata": {},
   "outputs": [
    {
     "name": "stdout",
     "output_type": "stream",
     "text": [
      "1class? 15 2 35\n",
      "1class : 52\n",
      "2class? 33 1 6\n",
      "2class : 40\n",
      "3class? 5 10 19\n",
      "3class : 34\n",
      "4class? 1 8 55\n",
      "4class : 64\n"
     ]
    }
   ],
   "source": [
    "for i in range(1,5):\n",
    "    print(\"{}class?\".format(i),end=\" \")\n",
    "    nums =list(map(int,input().rstrip().split(\" \")))\n",
    "    print(\"{}class : {}\".format(i,sum(nums)))"
   ]
  },
  {
   "cell_type": "markdown",
   "metadata": {},
   "source": [
    "### 형성평가 6"
   ]
  },
  {
   "cell_type": "code",
   "execution_count": 13,
   "metadata": {},
   "outputs": [
    {
     "name": "stdout",
     "output_type": "stream",
     "text": [
      "1 0 1 0 1\n",
      "0 2 0 2 0\n",
      "2 0 4 0 2\n",
      "0 6 0 6 0\n",
      "6 0 12 0 6\n"
     ]
    }
   ],
   "source": [
    "old = [1,0,1,0,1]\n",
    "print(*old)\n",
    "for i in range(4):\n",
    "    new=[]\n",
    "    new.append(old[1])\n",
    "    for j in range(1,4):\n",
    "        new.append(old[j-1]+old[j+1])\n",
    "    new.append(old[3])\n",
    "    print(*new)\n",
    "    old = new"
   ]
  },
  {
   "cell_type": "markdown",
   "metadata": {},
   "source": [
    "### 형성평가 7"
   ]
  },
  {
   "cell_type": "code",
   "execution_count": 14,
   "metadata": {},
   "outputs": [
    {
     "name": "stdout",
     "output_type": "stream",
     "text": [
      "first array\n",
      "1 2 3\n",
      "4 5 6\n",
      "second array\n",
      "7 8 9\n",
      "10 11 12\n",
      "7 16 27\n",
      "40 55 72\n"
     ]
    }
   ],
   "source": [
    "print(\"first array\")\n",
    "a = list(map(int,input().rstrip().split(\" \")))\n",
    "b = list(map(int,input().rstrip().split(\" \")))\n",
    "print(\"second array\")\n",
    "c = list(map(int,input().rstrip().split(\" \")))\n",
    "d = list(map(int,input().rstrip().split(\" \")))\n",
    "print(*[i*j for i,j in zip(a, c)])\n",
    "print(*[i*j for i,j in zip(b, d)])"
   ]
  },
  {
   "cell_type": "markdown",
   "metadata": {},
   "source": [
    "### 형성평가 8"
   ]
  },
  {
   "cell_type": "code",
   "execution_count": 28,
   "metadata": {},
   "outputs": [
    {
     "name": "stdout",
     "output_type": "stream",
     "text": [
      "16 27\n",
      "39 100\n",
      "19 88\n",
      "61 20\n",
      "21 69 53 40\n",
      "33 58\n",
      "46\n"
     ]
    }
   ],
   "source": [
    "import numpy as np\n",
    "nums = []\n",
    "for i in range(4):\n",
    "    nums.append(list(map(int,input().rstrip().split(\" \"))))\n",
    "nums = np.asarray(nums)\n",
    "print(*list(map(int,nums.mean(1))))\n",
    "print(*list(map(int,nums.mean(0))))\n",
    "print(int(nums.mean()))"
   ]
  },
  {
   "cell_type": "code",
   "execution_count": 23,
   "metadata": {},
   "outputs": [
    {
     "name": "stdout",
     "output_type": "stream",
     "text": [
      "3 7 11 15\n"
     ]
    }
   ],
   "source": []
  },
  {
   "cell_type": "code",
   "execution_count": null,
   "metadata": {},
   "outputs": [],
   "source": []
  }
 ],
 "metadata": {
  "kernelspec": {
   "display_name": "Python 3",
   "language": "python",
   "name": "python3"
  },
  "language_info": {
   "codemirror_mode": {
    "name": "ipython",
    "version": 3
   },
   "file_extension": ".py",
   "mimetype": "text/x-python",
   "name": "python",
   "nbconvert_exporter": "python",
   "pygments_lexer": "ipython3",
   "version": "3.6.5"
  }
 },
 "nbformat": 4,
 "nbformat_minor": 2
}
