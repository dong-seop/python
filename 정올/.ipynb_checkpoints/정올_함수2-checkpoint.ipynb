{
 "cells": [
  {
   "cell_type": "markdown",
   "metadata": {},
   "source": [
    "### 자가진단 1"
   ]
  },
  {
   "cell_type": "code",
   "execution_count": null,
   "metadata": {},
   "outputs": [],
   "source": [
    "def func1(nums):\n",
    "    nums.sort(reverse=True)\n",
    "    print(*nums)\n",
    "input()\n",
    "nums = list(map(int,input().split()))\n",
    "func1(nums)\n"
   ]
  },
  {
   "cell_type": "markdown",
   "metadata": {},
   "source": [
    "### 자가진단 2"
   ]
  },
  {
   "cell_type": "code",
   "execution_count": 7,
   "metadata": {},
   "outputs": [
    {
     "name": "stdout",
     "output_type": "stream",
     "text": [
      "3 30\n",
      "BAD!\n"
     ]
    }
   ],
   "source": [
    "def func1(mon,day):\n",
    "    mons = [1,2,3,4,5,6,7,8,9,10,11,12]\n",
    "    days = [0,31,29,31,30,31,30,31,31,30,31,30,31]\n",
    "    if mon in mons:\n",
    "        if day<=0 or day>31:\n",
    "            print(\"BAD!\")\n",
    "        elif day <= days[mon]:\n",
    "            print(\"OK!\")\n",
    "        else:\n",
    "            print(\"BAD!\")\n",
    "    else:\n",
    "        print(\"BAD!\")\n",
    "mon, day = list(map(int,input().split()))\n",
    "func1(mon,day)"
   ]
  },
  {
   "cell_type": "markdown",
   "metadata": {},
   "source": [
    "### 자가진단 3"
   ]
  },
  {
   "cell_type": "code",
   "execution_count": null,
   "metadata": {},
   "outputs": [],
   "source": []
  }
 ],
 "metadata": {
  "kernelspec": {
   "display_name": "Python 3",
   "language": "python",
   "name": "python3"
  },
  "language_info": {
   "codemirror_mode": {
    "name": "ipython",
    "version": 3
   },
   "file_extension": ".py",
   "mimetype": "text/x-python",
   "name": "python",
   "nbconvert_exporter": "python",
   "pygments_lexer": "ipython3",
   "version": "3.6.5"
  }
 },
 "nbformat": 4,
 "nbformat_minor": 2
}
