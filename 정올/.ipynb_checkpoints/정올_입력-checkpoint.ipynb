{
 "cells": [
  {
   "cell_type": "markdown",
   "metadata": {},
   "source": [
    "#### 자가진단 1"
   ]
  },
  {
   "cell_type": "code",
   "execution_count": 1,
   "metadata": {},
   "outputs": [
    {
     "name": "stdout",
     "output_type": "stream",
     "text": [
      "-100\n"
     ]
    }
   ],
   "source": [
    "a = -100\n",
    "print(a)"
   ]
  },
  {
   "cell_type": "markdown",
   "metadata": {},
   "source": [
    "#### 자가진단 2"
   ]
  },
  {
   "cell_type": "code",
   "execution_count": 2,
   "metadata": {},
   "outputs": [
    {
     "name": "stdout",
     "output_type": "stream",
     "text": [
      "-1\n",
      "100\n"
     ]
    }
   ],
   "source": [
    "a=-1\n",
    "b=100\n",
    "print(a)\n",
    "print(b)"
   ]
  },
  {
   "cell_type": "markdown",
   "metadata": {},
   "source": [
    "#### 자가진단 3"
   ]
  },
  {
   "cell_type": "code",
   "execution_count": 4,
   "metadata": {},
   "outputs": [
    {
     "name": "stdout",
     "output_type": "stream",
     "text": [
      "55 - 10 = 45\n",
      "2008 - 1999 = 9\n"
     ]
    }
   ],
   "source": [
    "a= 55\n",
    "b= 10\n",
    "print(\"{} - {} = {}\".format(a,b,a-b))\n",
    "a= 2008\n",
    "b= 1999\n",
    "print(\"{} - {} = {}\".format(a,b,a-b))"
   ]
  },
  {
   "cell_type": "markdown",
   "metadata": {},
   "source": [
    "#### 자가진단 4"
   ]
  },
  {
   "cell_type": "code",
   "execution_count": 5,
   "metadata": {},
   "outputs": [
    {
     "name": "stdout",
     "output_type": "stream",
     "text": [
      "49 * 0.2683 = 13.1467\n"
     ]
    }
   ],
   "source": [
    "a =49\n",
    "b = 0.2683\n",
    "print(\"{} * {} = {}\".format(a,b,a*b))"
   ]
  },
  {
   "cell_type": "markdown",
   "metadata": {},
   "source": [
    "#### 자가진단 5"
   ]
  },
  {
   "cell_type": "code",
   "execution_count": 11,
   "metadata": {},
   "outputs": [
    {
     "name": "stdout",
     "output_type": "stream",
     "text": [
      " 2.1yd = 192.0cm\n",
      "10.5in =  26.7cm\n"
     ]
    }
   ],
   "source": [
    "a = 2.1\n",
    "print('{:4.1f}yd = {:5.1f}cm'.format(a,a*91.44))\n",
    "a = 10.5\n",
    "print('{:4.1f}in = {:5.1f}cm'.format(a,a*2.54))"
   ]
  },
  {
   "cell_type": "markdown",
   "metadata": {},
   "source": [
    "#### 자가진단 6"
   ]
  },
  {
   "cell_type": "code",
   "execution_count": 12,
   "metadata": {},
   "outputs": [
    {
     "name": "stdout",
     "output_type": "stream",
     "text": [
      "height = 170\n",
      "Your height is 170cm.\n"
     ]
    }
   ],
   "source": [
    "a = input('height = ')\n",
    "print('Your height is {}cm.'.format(a))"
   ]
  },
  {
   "cell_type": "markdown",
   "metadata": {},
   "source": [
    "#### 자가진단 7"
   ]
  },
  {
   "cell_type": "code",
   "execution_count": 13,
   "metadata": {},
   "outputs": [
    {
     "name": "stdout",
     "output_type": "stream",
     "text": [
      "16 5\n",
      "16 * 5 = 80\n",
      "16 / 5 = 3\n"
     ]
    }
   ],
   "source": [
    "a,b = list(map(int,input().split(\" \")))\n",
    "print(\"{} * {} = {}\".format(a,b,a*b))\n",
    "print(\"{} / {} = {}\".format(a,b,a//b))"
   ]
  },
  {
   "cell_type": "markdown",
   "metadata": {},
   "source": [
    "#### 자가진단 8"
   ]
  },
  {
   "cell_type": "code",
   "execution_count": 14,
   "metadata": {},
   "outputs": [
    {
     "name": "stdout",
     "output_type": "stream",
     "text": [
      "12.2536\n",
      "526.129535\n",
      "A\n",
      "12.25\n",
      "526.13\n",
      "A\n"
     ]
    }
   ],
   "source": [
    "a = float(input())\n",
    "b = float(input())\n",
    "c =input()\n",
    "print(\"{:.2f}\".format(a))\n",
    "print(\"{:.2f}\".format(b))\n",
    "print(c)"
   ]
  },
  {
   "cell_type": "markdown",
   "metadata": {},
   "source": [
    "#### 자가진단 9"
   ]
  },
  {
   "cell_type": "code",
   "execution_count": 15,
   "metadata": {},
   "outputs": [
    {
     "name": "stdout",
     "output_type": "stream",
     "text": [
      "1.2568\n",
      "95.21438\n",
      "526.851364\n",
      "1.257\n",
      "95.214\n",
      "526.851\n"
     ]
    }
   ],
   "source": [
    "a = float(input())\n",
    "b = float(input())\n",
    "c = float(input())\n",
    "print(\"{:.3f}\".format(a))\n",
    "print(\"{:.3f}\".format(b))\n",
    "print(\"{:.3f}\".format(c))"
   ]
  },
  {
   "cell_type": "markdown",
   "metadata": {},
   "source": [
    "#### 형성평가 1"
   ]
  },
  {
   "cell_type": "code",
   "execution_count": 17,
   "metadata": {},
   "outputs": [
    {
     "name": "stdout",
     "output_type": "stream",
     "text": [
      "10 + 20 = 30\n"
     ]
    }
   ],
   "source": [
    "a =10\n",
    "b=20\n",
    "c=30\n",
    "print('{} + {} = {}'.format(a,b,c))"
   ]
  },
  {
   "cell_type": "markdown",
   "metadata": {},
   "source": [
    "#### 형성평가 2"
   ]
  },
  {
   "cell_type": "code",
   "execution_count": 18,
   "metadata": {},
   "outputs": [
    {
     "name": "stdout",
     "output_type": "stream",
     "text": [
      "     85.50     22.34    102.84\n"
     ]
    }
   ],
   "source": [
    "a =85.5\n",
    "b=22.34\n",
    "c=102.84\n",
    "print('{:10.2f}{:10.2f}{:10.2f}'.format(a,b,c))"
   ]
  },
  {
   "cell_type": "markdown",
   "metadata": {},
   "source": [
    "#### 형성평가 3"
   ]
  },
  {
   "cell_type": "code",
   "execution_count": 21,
   "metadata": {},
   "outputs": [
    {
     "name": "stdout",
     "output_type": "stream",
     "text": [
      "100.12 * 50 = 5006\n"
     ]
    }
   ],
   "source": [
    "a = 100.12\n",
    "b=50\n",
    "print(\"{:.2f} * {} = {:.0f}\".format(a,b,a*b))"
   ]
  },
  {
   "cell_type": "markdown",
   "metadata": {},
   "source": [
    "#### 형성평가 4"
   ]
  },
  {
   "cell_type": "code",
   "execution_count": 22,
   "metadata": {},
   "outputs": [
    {
     "name": "stdout",
     "output_type": "stream",
     "text": [
      "sum = 170\n",
      "avg = 56\n"
     ]
    }
   ],
   "source": [
    "a =20\n",
    "b=50\n",
    "c=100\n",
    "print(\"sum = {}\".format(a+b+c))\n",
    "print(\"avg = {}\".format((a+b+c)//3))"
   ]
  },
  {
   "cell_type": "markdown",
   "metadata": {},
   "source": [
    "#### 형성평가 5"
   ]
  },
  {
   "cell_type": "code",
   "execution_count": 24,
   "metadata": {},
   "outputs": [
    {
     "name": "stdout",
     "output_type": "stream",
     "text": [
      "yard?10.1\n",
      "10.1yard = 923.5cm\n"
     ]
    }
   ],
   "source": [
    "a =float(input('yard?' ))\n",
    "print('{:.1f}yard = {:.1f}cm'.format(a,a*91.44))"
   ]
  }
 ],
 "metadata": {
  "kernelspec": {
   "display_name": "Python 3",
   "language": "python",
   "name": "python3"
  },
  "language_info": {
   "codemirror_mode": {
    "name": "ipython",
    "version": 3
   },
   "file_extension": ".py",
   "mimetype": "text/x-python",
   "name": "python",
   "nbconvert_exporter": "python",
   "pygments_lexer": "ipython3",
   "version": "3.6.5"
  }
 },
 "nbformat": 4,
 "nbformat_minor": 2
}
