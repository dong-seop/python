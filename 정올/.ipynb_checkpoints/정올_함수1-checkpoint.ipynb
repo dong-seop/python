{
 "cells": [
  {
   "cell_type": "markdown",
   "metadata": {},
   "source": [
    "### 자가진단 1"
   ]
  },
  {
   "cell_type": "code",
   "execution_count": 2,
   "metadata": {},
   "outputs": [
    {
     "name": "stdout",
     "output_type": "stream",
     "text": [
      "3\n",
      "~!@#$^&*()_+|\n",
      "~!@#$^&*()_+|\n",
      "~!@#$^&*()_+|\n"
     ]
    }
   ],
   "source": [
    "def func1(n):\n",
    "    for _ in range(n):\n",
    "        print(\"~!@#$^&*()_+|\")\n",
    "func1(int(input()))"
   ]
  },
  {
   "cell_type": "markdown",
   "metadata": {},
   "source": [
    "### 자가진단 2"
   ]
  },
  {
   "cell_type": "code",
   "execution_count": 4,
   "metadata": {},
   "outputs": [
    {
     "name": "stdout",
     "output_type": "stream",
     "text": [
      "10\n",
      "314.00\n"
     ]
    }
   ],
   "source": [
    "def func1(n):\n",
    "    return n**2*3.14\n",
    "r = int(input())\n",
    "print(\"{:.2f}\".format(func1(r)))"
   ]
  },
  {
   "cell_type": "markdown",
   "metadata": {},
   "source": [
    "### 자가진단 3"
   ]
  },
  {
   "cell_type": "code",
   "execution_count": 10,
   "metadata": {},
   "outputs": [
    {
     "name": "stdout",
     "output_type": "stream",
     "text": [
      "4\n",
      "1 2 3 4\n",
      "5 6 7 8\n",
      "9 10 11 12\n",
      "13 14 15 16\n"
     ]
    }
   ],
   "source": [
    "def func1(n):\n",
    "    for i in range(n):\n",
    "        print(*[i*n+num for num in range(1,n+1)])\n",
    "func1(int(input()))"
   ]
  },
  {
   "cell_type": "markdown",
   "metadata": {},
   "source": [
    "### 자가진단 4"
   ]
  },
  {
   "cell_type": "code",
   "execution_count": 2,
   "metadata": {},
   "outputs": [
    {
     "name": "stdout",
     "output_type": "stream",
     "text": [
      "-10 115 33\n",
      "115\n"
     ]
    }
   ],
   "source": [
    "def func1(n1,n2):\n",
    "    if n1>n2:\n",
    "        return n1\n",
    "    else:\n",
    "        return n2\n",
    "n1,n2,n3 = list(map(int,input().split()))\n",
    "max_ = func1(n1,n2)\n",
    "print(func1(max_,n3))"
   ]
  },
  {
   "cell_type": "markdown",
   "metadata": {},
   "source": [
    "### 자가진단 5"
   ]
  },
  {
   "cell_type": "code",
   "execution_count": 3,
   "metadata": {},
   "outputs": [
    {
     "name": "stdout",
     "output_type": "stream",
     "text": [
      "2 10\n",
      "1024\n"
     ]
    }
   ],
   "source": [
    "def func1(n1,n2):\n",
    "    return n1**n2\n",
    "n1,n2 = list(map(int,input().split()))\n",
    "print(func1(n1,n2))"
   ]
  },
  {
   "cell_type": "code",
   "execution_count": null,
   "metadata": {},
   "outputs": [],
   "source": []
  }
 ],
 "metadata": {
  "kernelspec": {
   "display_name": "Python 3",
   "language": "python",
   "name": "python3"
  },
  "language_info": {
   "codemirror_mode": {
    "name": "ipython",
    "version": 3
   },
   "file_extension": ".py",
   "mimetype": "text/x-python",
   "name": "python",
   "nbconvert_exporter": "python",
   "pygments_lexer": "ipython3",
   "version": "3.6.5"
  }
 },
 "nbformat": 4,
 "nbformat_minor": 2
}
