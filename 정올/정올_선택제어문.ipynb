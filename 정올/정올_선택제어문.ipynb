{
 "cells": [
  {
   "cell_type": "markdown",
   "metadata": {},
   "source": [
    "#### 자가진단 1"
   ]
  },
  {
   "cell_type": "code",
   "execution_count": 1,
   "metadata": {},
   "outputs": [
    {
     "name": "stdout",
     "output_type": "stream",
     "text": [
      "-5\n",
      "-5\n",
      "minus\n"
     ]
    }
   ],
   "source": [
    "n = int(input())\n",
    "print(n)\n",
    "if n<0:\n",
    "    print(\"minus\")"
   ]
  },
  {
   "cell_type": "markdown",
   "metadata": {},
   "source": [
    "#### 자가진단 2"
   ]
  },
  {
   "cell_type": "code",
   "execution_count": 2,
   "metadata": {},
   "outputs": [
    {
     "name": "stdout",
     "output_type": "stream",
     "text": [
      "155 60\n",
      "5\n",
      "Obesity\n"
     ]
    }
   ],
   "source": [
    "h,w = list(map(int,input().split(\" \")))\n",
    "ob = w+100-h\n",
    "print(ob)\n",
    "if ob>0:\n",
    "    print(\"Obesity\")"
   ]
  },
  {
   "cell_type": "markdown",
   "metadata": {},
   "source": [
    "#### 자가진단 3"
   ]
  },
  {
   "cell_type": "code",
   "execution_count": 4,
   "metadata": {},
   "outputs": [
    {
     "name": "stdout",
     "output_type": "stream",
     "text": [
      "18\n",
      "2 years later\n"
     ]
    }
   ],
   "source": [
    "y =int(input())\n",
    "if y>=20:\n",
    "    print('adult')\n",
    "else:\n",
    "    print('{} years later'.format(20-y))"
   ]
  },
  {
   "cell_type": "markdown",
   "metadata": {},
   "source": [
    "#### 자가진단 4"
   ]
  },
  {
   "cell_type": "code",
   "execution_count": 5,
   "metadata": {},
   "outputs": [
    {
     "name": "stdout",
     "output_type": "stream",
     "text": [
      "87.3\n",
      "Cruiserweight\n"
     ]
    }
   ],
   "source": [
    "w = float(input())\n",
    "if w<50.80:\n",
    "    print('Flyweight')\n",
    "elif w<61.23:\n",
    "    print('Lightweight')\n",
    "elif w<72.57:\n",
    "    print('Middleweight')\n",
    "elif w<88.45:\n",
    "    print('Cruiserweight')\n",
    "else:\n",
    "    print('Heavyweight')"
   ]
  },
  {
   "cell_type": "markdown",
   "metadata": {},
   "source": [
    "#### 자가진단5"
   ]
  },
  {
   "cell_type": "code",
   "execution_count": 6,
   "metadata": {},
   "outputs": [
    {
     "name": "stdout",
     "output_type": "stream",
     "text": [
      "4.3 3.5\n",
      "B\n"
     ]
    }
   ],
   "source": [
    "g1,g2 = list(map(float, input().split(\" \")))\n",
    "if g1>=4.0 and g2>=4.0:\n",
    "    print('A')\n",
    "elif g1>=3.0 and g2>=3.0:\n",
    "    print('B')\n",
    "else:\n",
    "    print('C')"
   ]
  },
  {
   "cell_type": "markdown",
   "metadata": {},
   "source": [
    "#### 자가진단 6"
   ]
  },
  {
   "cell_type": "code",
   "execution_count": 7,
   "metadata": {},
   "outputs": [
    {
     "name": "stdout",
     "output_type": "stream",
     "text": [
      "F 15\n",
      "GIRL\n"
     ]
    }
   ],
   "source": [
    "s,y = input().split(\" \")\n",
    "y = int(y)\n",
    "if s=='M':\n",
    "    if y>=18:\n",
    "        print(\"MAN\")\n",
    "    else:\n",
    "        print(\"BOY\")\n",
    "else:\n",
    "    if y>=18:\n",
    "        print(\"WOMAN\")\n",
    "    else:\n",
    "        print(\"GIRL\")"
   ]
  },
  {
   "cell_type": "markdown",
   "metadata": {},
   "source": [
    "#### 자가진단 7"
   ]
  },
  {
   "cell_type": "code",
   "execution_count": 8,
   "metadata": {},
   "outputs": [
    {
     "name": "stdout",
     "output_type": "stream",
     "text": [
      "A\n",
      "Excellent\n"
     ]
    }
   ],
   "source": [
    "g = input().strip()\n",
    "if g=='A':\n",
    "    print(\"Excellent\")\n",
    "elif g=='B':\n",
    "    print(\"Good\")\n",
    "elif g=='C':\n",
    "    print(\"Usually\")\n",
    "elif g=='D':\n",
    "    print(\"Effort\")\n",
    "elif g=='F':\n",
    "    print(\"Failure\")\n",
    "else:\n",
    "    print(\"error\")"
   ]
  },
  {
   "cell_type": "markdown",
   "metadata": {},
   "source": [
    "#### 자가진단 8"
   ]
  },
  {
   "cell_type": "code",
   "execution_count": 9,
   "metadata": {},
   "outputs": [
    {
     "name": "stdout",
     "output_type": "stream",
     "text": [
      "3.5\n",
      "next semester\n"
     ]
    }
   ],
   "source": [
    "g = float(input())\n",
    "if g>=4.0:\n",
    "    print('scholarship')\n",
    "elif g>=3.0:\n",
    "    print('next semester')\n",
    "elif g>=2.0:\n",
    "    print('seasonal semester')\n",
    "else:\n",
    "    print(\"retake\")"
   ]
  },
  {
   "cell_type": "markdown",
   "metadata": {},
   "source": [
    "#### 자가진단 9"
   ]
  },
  {
   "cell_type": "code",
   "execution_count": 10,
   "metadata": {},
   "outputs": [
    {
     "name": "stdout",
     "output_type": "stream",
     "text": [
      "18 -5 10\n",
      "-5\n"
     ]
    }
   ],
   "source": [
    "nums =list(map(int,input().rstrip().split(\" \")))\n",
    "print(min(nums))"
   ]
  },
  {
   "cell_type": "markdown",
   "metadata": {},
   "source": [
    "#### 형성평가 1"
   ]
  },
  {
   "cell_type": "code",
   "execution_count": 11,
   "metadata": {},
   "outputs": [
    {
     "name": "stdout",
     "output_type": "stream",
     "text": [
      "50 85\n",
      "35\n"
     ]
    }
   ],
   "source": [
    "n1,n2 =list(map(int,input().rstrip().split(\" \")))\n",
    "if n1>n2:\n",
    "    print(n1-n2)\n",
    "else:\n",
    "    print(n2-n1)"
   ]
  },
  {
   "cell_type": "markdown",
   "metadata": {},
   "source": [
    "#### 형성평가 2"
   ]
  },
  {
   "cell_type": "code",
   "execution_count": 12,
   "metadata": {},
   "outputs": [
    {
     "name": "stdout",
     "output_type": "stream",
     "text": [
      "0\n",
      "zero\n"
     ]
    }
   ],
   "source": [
    "num = int(input())\n",
    "if num<0:\n",
    "    print('minus')\n",
    "elif num>0:\n",
    "    print('plus')\n",
    "else:\n",
    "    print(\"zero\")"
   ]
  },
  {
   "cell_type": "markdown",
   "metadata": {},
   "source": [
    "#### 형성평가 3"
   ]
  },
  {
   "cell_type": "code",
   "execution_count": 13,
   "metadata": {},
   "outputs": [
    {
     "name": "stdout",
     "output_type": "stream",
     "text": [
      "2008\n",
      "leap year\n"
     ]
    }
   ],
   "source": [
    "y = int(input())\n",
    "if y%400==0:\n",
    "    print('leap year')\n",
    "elif y%4==0 and y%100!=0:\n",
    "    print('leap year')\n",
    "else:\n",
    "    print('common year')"
   ]
  },
  {
   "cell_type": "markdown",
   "metadata": {},
   "source": [
    "#### 형성평가 4"
   ]
  },
  {
   "cell_type": "code",
   "execution_count": 16,
   "metadata": {},
   "outputs": [
    {
     "name": "stdout",
     "output_type": "stream",
     "text": [
      "Number? 4\n",
      "I don't know.\n"
     ]
    }
   ],
   "source": [
    "n = int(input(\"Number? \"))\n",
    "if n==1:\n",
    "    print('dog')\n",
    "elif n==2:\n",
    "    print('cat')\n",
    "elif n==3:\n",
    "    print('chick')\n",
    "else:\n",
    "    print(\"I don't know.\")"
   ]
  },
  {
   "cell_type": "markdown",
   "metadata": {},
   "source": [
    "#### 형성평가 5"
   ]
  },
  {
   "cell_type": "code",
   "execution_count": 17,
   "metadata": {},
   "outputs": [
    {
     "name": "stdout",
     "output_type": "stream",
     "text": [
      "2\n",
      "28\n"
     ]
    }
   ],
   "source": [
    "n = int(input())\n",
    "if n==2:\n",
    "    print('28')\n",
    "elif n==4 or n==11 or n==6 or n==9:\n",
    "    print('30')\n",
    "else:\n",
    "    print('31')"
   ]
  },
  {
   "cell_type": "code",
   "execution_count": null,
   "metadata": {},
   "outputs": [],
   "source": []
  }
 ],
 "metadata": {
  "kernelspec": {
   "display_name": "Python 3",
   "language": "python",
   "name": "python3"
  },
  "language_info": {
   "codemirror_mode": {
    "name": "ipython",
    "version": 3
   },
   "file_extension": ".py",
   "mimetype": "text/x-python",
   "name": "python",
   "nbconvert_exporter": "python",
   "pygments_lexer": "ipython3",
   "version": "3.6.5"
  }
 },
 "nbformat": 4,
 "nbformat_minor": 2
}
