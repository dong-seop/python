{
 "cells": [
  {
   "cell_type": "markdown",
   "metadata": {},
   "source": [
    "### 자가진단 1"
   ]
  },
  {
   "cell_type": "code",
   "execution_count": 2,
   "metadata": {},
   "outputs": [
    {
     "name": "stdout",
     "output_type": "stream",
     "text": [
      "3\n",
      "~!@#$^&*()_+|\n",
      "~!@#$^&*()_+|\n",
      "~!@#$^&*()_+|\n"
     ]
    }
   ],
   "source": [
    "def func1(n):\n",
    "    for _ in range(n):\n",
    "        print(\"~!@#$^&*()_+|\")\n",
    "func1(int(input()))"
   ]
  },
  {
   "cell_type": "markdown",
   "metadata": {},
   "source": [
    "### 자가진단 2"
   ]
  },
  {
   "cell_type": "code",
   "execution_count": 4,
   "metadata": {},
   "outputs": [
    {
     "name": "stdout",
     "output_type": "stream",
     "text": [
      "10\n",
      "314.00\n"
     ]
    }
   ],
   "source": [
    "def func1(n):\n",
    "    return n**2*3.14\n",
    "r = int(input())\n",
    "print(\"{:.2f}\".format(func1(r)))"
   ]
  },
  {
   "cell_type": "markdown",
   "metadata": {},
   "source": [
    "### 자가진단 3"
   ]
  },
  {
   "cell_type": "code",
   "execution_count": 10,
   "metadata": {},
   "outputs": [
    {
     "name": "stdout",
     "output_type": "stream",
     "text": [
      "4\n",
      "1 2 3 4\n",
      "5 6 7 8\n",
      "9 10 11 12\n",
      "13 14 15 16\n"
     ]
    }
   ],
   "source": [
    "def func1(n):\n",
    "    for i in range(n):\n",
    "        print(*[i*n+num for num in range(1,n+1)])\n",
    "func1(int(input()))"
   ]
  },
  {
   "cell_type": "markdown",
   "metadata": {},
   "source": [
    "### 자가진단 4"
   ]
  },
  {
   "cell_type": "code",
   "execution_count": 2,
   "metadata": {},
   "outputs": [
    {
     "name": "stdout",
     "output_type": "stream",
     "text": [
      "-10 115 33\n",
      "115\n"
     ]
    }
   ],
   "source": [
    "def func1(n1,n2):\n",
    "    if n1>n2:\n",
    "        return n1\n",
    "    else:\n",
    "        return n2\n",
    "n1,n2,n3 = list(map(int,input().split()))\n",
    "max_ = func1(n1,n2)\n",
    "print(func1(max_,n3))"
   ]
  },
  {
   "cell_type": "markdown",
   "metadata": {},
   "source": [
    "### 자가진단 5"
   ]
  },
  {
   "cell_type": "code",
   "execution_count": 3,
   "metadata": {},
   "outputs": [
    {
     "name": "stdout",
     "output_type": "stream",
     "text": [
      "2 10\n",
      "1024\n"
     ]
    }
   ],
   "source": [
    "def func1(n1,n2):\n",
    "    return n1**n2\n",
    "n1,n2 = list(map(int,input().split()))\n",
    "print(func1(n1,n2))"
   ]
  },
  {
   "cell_type": "markdown",
   "metadata": {},
   "source": [
    "### 자가진단 6"
   ]
  },
  {
   "cell_type": "code",
   "execution_count": 9,
   "metadata": {},
   "outputs": [
    {
     "name": "stdout",
     "output_type": "stream",
     "text": [
      "10 + 20\n",
      "10 + 20 = 30\n"
     ]
    }
   ],
   "source": [
    "def func1(n1,n2,oper):\n",
    "    if oper=='+':\n",
    "        return n1+n2\n",
    "    elif oper=='-':\n",
    "        return n1-n2\n",
    "    elif oper =='*':\n",
    "        return n1*n2\n",
    "    elif oper =='/':\n",
    "        return int(n1/n2)\n",
    "    else:\n",
    "        return 0\n",
    "n1,oper,n2 = input().split()\n",
    "n1 = int(n1)\n",
    "n2 = int(n2)\n",
    "\n",
    "result = func1(n1,n2,oper)\n",
    "\n",
    "print(\"{} {} {} = {}\".format(n1,oper,n2,result))"
   ]
  },
  {
   "cell_type": "markdown",
   "metadata": {},
   "source": [
    "### 자가진단 7"
   ]
  },
  {
   "cell_type": "code",
   "execution_count": 19,
   "metadata": {},
   "outputs": [
    {
     "name": "stdout",
     "output_type": "stream",
     "text": [
      "35 3\n",
      "17 6\n"
     ]
    }
   ],
   "source": [
    "def func1(n1,n2):\n",
    "    if n1>n2:\n",
    "        return n1//2,n2*2\n",
    "    else:\n",
    "        return n1*2,n2//2\n",
    "n1,n2 = list(map(int,input().rstrip().split()))\n",
    "print(*func1(n1,n2))"
   ]
  },
  {
   "cell_type": "markdown",
   "metadata": {},
   "source": [
    "### 자가진단 8"
   ]
  },
  {
   "cell_type": "code",
   "execution_count": 21,
   "metadata": {},
   "outputs": [
    {
     "name": "stdout",
     "output_type": "stream",
     "text": [
      "3 5\n",
      "== 3dan ==\n",
      "3 * 1 =  3\n",
      "3 * 2 =  6\n",
      "3 * 3 =  9\n",
      "3 * 4 = 12\n",
      "3 * 5 = 15\n",
      "3 * 6 = 18\n",
      "3 * 7 = 21\n",
      "3 * 8 = 24\n",
      "3 * 9 = 27\n",
      "\n",
      "== 4dan ==\n",
      "4 * 1 =  4\n",
      "4 * 2 =  8\n",
      "4 * 3 = 12\n",
      "4 * 4 = 16\n",
      "4 * 5 = 20\n",
      "4 * 6 = 24\n",
      "4 * 7 = 28\n",
      "4 * 8 = 32\n",
      "4 * 9 = 36\n",
      "\n",
      "== 5dan ==\n",
      "5 * 1 =  5\n",
      "5 * 2 = 10\n",
      "5 * 3 = 15\n",
      "5 * 4 = 20\n",
      "5 * 5 = 25\n",
      "5 * 6 = 30\n",
      "5 * 7 = 35\n",
      "5 * 8 = 40\n",
      "5 * 9 = 45\n",
      "\n"
     ]
    }
   ],
   "source": [
    "def func1(n1,n2):\n",
    "    if n1>n2:\n",
    "        max_=n1\n",
    "        min_=n2\n",
    "    else:\n",
    "        max_=n2\n",
    "        min_=n1\n",
    "    for i in range(min_,max_+1):\n",
    "        print(\"== {}dan ==\".format(i))\n",
    "        for j in range(1,10):\n",
    "            print(\"{} * {} = {:2d}\".format(i,j,i*j))\n",
    "        print()\n",
    "n1,n2 = list(map(int,input().rstrip().split()))\n",
    "func1(n1,n2)"
   ]
  },
  {
   "cell_type": "markdown",
   "metadata": {},
   "source": [
    "### 형성평가 1"
   ]
  },
  {
   "cell_type": "code",
   "execution_count": 22,
   "metadata": {},
   "outputs": [
    {
     "name": "stdout",
     "output_type": "stream",
     "text": [
      "first\n",
      "@@@@@@@@@@\n",
      "second\n",
      "@@@@@@@@@@\n",
      "third\n",
      "@@@@@@@@@@\n"
     ]
    }
   ],
   "source": [
    "def func1():\n",
    "    print('@'*10)\n",
    "print(\"first\")\n",
    "func1()\n",
    "print(\"second\")\n",
    "func1()\n",
    "print(\"third\")\n",
    "func1()"
   ]
  },
  {
   "cell_type": "markdown",
   "metadata": {},
   "source": [
    "### 형성평가 2"
   ]
  },
  {
   "cell_type": "code",
   "execution_count": 24,
   "metadata": {},
   "outputs": [
    {
     "name": "stdout",
     "output_type": "stream",
     "text": [
      "50\n",
      "1275\n"
     ]
    }
   ],
   "source": [
    "def func1(n):\n",
    "    result=0\n",
    "    for i in range(n+1):\n",
    "        result+=i\n",
    "    return result\n",
    "n = int(input())\n",
    "print(func1(n))"
   ]
  },
  {
   "cell_type": "markdown",
   "metadata": {},
   "source": [
    "### 형성평가 3"
   ]
  },
  {
   "cell_type": "code",
   "execution_count": 25,
   "metadata": {},
   "outputs": [
    {
     "name": "stdout",
     "output_type": "stream",
     "text": [
      "3\n",
      "1 2 3 \n",
      "2 4 6 \n",
      "3 6 9 \n"
     ]
    }
   ],
   "source": [
    "def func1(n):\n",
    "    for i in range(1,n+1):\n",
    "        for j in range(1,n+1):\n",
    "            print(i*j,end=\" \")\n",
    "        print()\n",
    "func1(int(input()))           "
   ]
  },
  {
   "cell_type": "markdown",
   "metadata": {},
   "source": [
    "### 형성평가 4"
   ]
  },
  {
   "cell_type": "code",
   "execution_count": 27,
   "metadata": {},
   "outputs": [
    {
     "name": "stdout",
     "output_type": "stream",
     "text": [
      "8 10\n",
      "36\n"
     ]
    }
   ],
   "source": [
    "def func1(n1,n2):\n",
    "    n1 = n1**2\n",
    "    n2 = n2**2\n",
    "    if(n1>n2): return n1-n2\n",
    "    else: return n2-n1\n",
    "n1,n2 = list(map(int,input().split()))\n",
    "print(func1(n1,n2))"
   ]
  },
  {
   "cell_type": "code",
   "execution_count": 30,
   "metadata": {},
   "outputs": [
    {
     "name": "stdout",
     "output_type": "stream",
     "text": [
      "1 2 3\n",
      "1 2 3 6\n",
      "1 2 3\n",
      "1 2 3 6\n",
      "1 2 3\n",
      "1 2 3 6\n",
      "3 6 9 18\n"
     ]
    }
   ],
   "source": [
    "n1 = list(map(int,input().split()))\n",
    "print(*n1,end=\" \")\n",
    "print(sum(n1))\n",
    "n2 = list(map(int,input().split()))\n",
    "print(*n2,end=\" \")\n",
    "print(sum(n2))\n",
    "n3 = list(map(int,input().split()))\n",
    "print(*n3,end=\" \")\n",
    "print(sum(n3))\n",
    "for i in range(3):\n",
    "    print(n1[i]+n2[i]+n3[i],end= \" \")\n",
    "print(sum(n1+n2+n3))"
   ]
  },
  {
   "cell_type": "markdown",
   "metadata": {},
   "source": []
  }
 ],
 "metadata": {
  "kernelspec": {
   "display_name": "Python 3",
   "language": "python",
   "name": "python3"
  },
  "language_info": {
   "codemirror_mode": {
    "name": "ipython",
    "version": 3
   },
   "file_extension": ".py",
   "mimetype": "text/x-python",
   "name": "python",
   "nbconvert_exporter": "python",
   "pygments_lexer": "ipython3",
   "version": "3.6.5"
  }
 },
 "nbformat": 4,
 "nbformat_minor": 2
}
