{
 "cells": [
  {
   "cell_type": "markdown",
   "metadata": {},
   "source": [
    "#### 자가진단 1"
   ]
  },
  {
   "cell_type": "code",
   "execution_count": 3,
   "metadata": {},
   "outputs": [
    {
     "name": "stdout",
     "output_type": "stream",
     "text": [
      "10 25 33\n",
      "sum : 68\n",
      "avg : 22\n"
     ]
    }
   ],
   "source": [
    "nums = list(map(int,input().split()))\n",
    "print(\"sum : {}\".format(sum(nums)))\n",
    "print(\"avg : {}\".format(int(sum(nums)/len(nums))))"
   ]
  },
  {
   "cell_type": "markdown",
   "metadata": {},
   "source": [
    "#### 자가진단 2"
   ]
  },
  {
   "cell_type": "code",
   "execution_count": 4,
   "metadata": {},
   "outputs": [
    {
     "name": "stdout",
     "output_type": "stream",
     "text": [
      "20 35\n",
      "120 5\n"
     ]
    }
   ],
   "source": [
    "n1, n2 = list(map(int,input().split()))\n",
    "print(n1+100, n2%10)"
   ]
  },
  {
   "cell_type": "markdown",
   "metadata": {},
   "source": [
    "#### 자가진단 3"
   ]
  },
  {
   "cell_type": "code",
   "execution_count": 5,
   "metadata": {},
   "outputs": [],
   "source": [
    "#python에서는 전치 후치 연산자가 없다."
   ]
  },
  {
   "cell_type": "markdown",
   "metadata": {},
   "source": [
    "#### 자가진단 4"
   ]
  },
  {
   "cell_type": "code",
   "execution_count": 6,
   "metadata": {},
   "outputs": [],
   "source": [
    "#python에서는 전치 후치 연산자가 없다."
   ]
  },
  {
   "cell_type": "markdown",
   "metadata": {},
   "source": [
    "#### 자가진단 5"
   ]
  },
  {
   "cell_type": "code",
   "execution_count": 8,
   "metadata": {},
   "outputs": [
    {
     "name": "stdout",
     "output_type": "stream",
     "text": [
      "5 5\n",
      "1\n",
      "0\n"
     ]
    }
   ],
   "source": [
    "n1, n2 = list(map(int,input().split()))\n",
    "print(int(n1==n2))\n",
    "print(int(n1!=n2))"
   ]
  },
  {
   "cell_type": "markdown",
   "metadata": {},
   "source": [
    "#### 자가진단 6"
   ]
  },
  {
   "cell_type": "code",
   "execution_count": 10,
   "metadata": {},
   "outputs": [
    {
     "name": "stdout",
     "output_type": "stream",
     "text": [
      "4 5\n",
      "4 > 5 --- 0\n",
      "4 < 5 --- 1\n",
      "4 >= 5 --- 0\n",
      "4 <= 5 --- 1\n"
     ]
    }
   ],
   "source": [
    "n1, n2 = list(map(int,input().split()))\n",
    "print(\"{} > {} --- {}\".format(n1,n2, int(n1>n2)))\n",
    "print(\"{} < {} --- {}\".format(n1,n2, int(n1<n2)))\n",
    "print(\"{} >= {} --- {}\".format(n1,n2, int(n1>=n2)))\n",
    "print(\"{} <= {} --- {}\".format(n1,n2, int(n1<=n2)))"
   ]
  },
  {
   "cell_type": "markdown",
   "metadata": {},
   "source": [
    "#### 자가진단 7"
   ]
  },
  {
   "cell_type": "code",
   "execution_count": 12,
   "metadata": {},
   "outputs": [
    {
     "name": "stdout",
     "output_type": "stream",
     "text": [
      "2 0\n",
      "0 1\n"
     ]
    }
   ],
   "source": [
    "n1, n2 = list(map(int,input().split()))\n",
    "print(int(bool(n1*n2)),int(bool(n1+n2)))"
   ]
  },
  {
   "cell_type": "markdown",
   "metadata": {},
   "source": [
    "#### 자가진단 8"
   ]
  },
  {
   "cell_type": "code",
   "execution_count": 14,
   "metadata": {},
   "outputs": [
    {
     "name": "stdout",
     "output_type": "stream",
     "text": [
      "10 9 9\n",
      "1 0 "
     ]
    }
   ],
   "source": [
    "n1, n2, n3 = list(map(int,input().split()))\n",
    "\n",
    "print(int(bool(n1>n2 and n1>n3)),end= \" \")\n",
    "print(int(bool(n1==n2 and n2==n3)),end= \" \")"
   ]
  },
  {
   "cell_type": "markdown",
   "metadata": {},
   "source": [
    "#### 형성평가 1"
   ]
  },
  {
   "cell_type": "code",
   "execution_count": 16,
   "metadata": {},
   "outputs": [
    {
     "name": "stdout",
     "output_type": "stream",
     "text": [
      "70 95 63 100\n",
      "sum 328\n",
      "avg 82\n"
     ]
    }
   ],
   "source": [
    "nums = list(map(int,input().split()))\n",
    "print(\"sum {}\".format(sum(nums)))\n",
    "print(\"avg {}\".format(int(sum(nums)/len(nums))))"
   ]
  },
  {
   "cell_type": "markdown",
   "metadata": {},
   "source": [
    "#### 형성평가 2"
   ]
  },
  {
   "cell_type": "code",
   "execution_count": 18,
   "metadata": {},
   "outputs": [
    {
     "name": "stdout",
     "output_type": "stream",
     "text": [
      "35 10\n",
      "35 / 10 = 3...5\n"
     ]
    }
   ],
   "source": [
    "n1,n2 = list(map(int,input().split()))\n",
    "print(\"{} / {} = {}...{}\".format(n1,n2,n1//n2,n1%n2))"
   ]
  },
  {
   "cell_type": "markdown",
   "metadata": {},
   "source": [
    "#### 형성평가 3"
   ]
  },
  {
   "cell_type": "code",
   "execution_count": 19,
   "metadata": {},
   "outputs": [
    {
     "name": "stdout",
     "output_type": "stream",
     "text": [
      "20 15\n",
      "width = 25\n",
      "length = 30\n",
      "area = 750\n"
     ]
    }
   ],
   "source": [
    "n1,n2 = list(map(int,input().split()))\n",
    "print(\"width = {}\".format(n1+5))\n",
    "print(\"length = {}\".format(n2*2))\n",
    "print(\"area = {}\".format((n1+5)*n2*2))"
   ]
  },
  {
   "cell_type": "markdown",
   "metadata": {},
   "source": [
    "#### 형성평가 4"
   ]
  },
  {
   "cell_type": "code",
   "execution_count": 20,
   "metadata": {},
   "outputs": [
    {
     "name": "stdout",
     "output_type": "stream",
     "text": [
      "10 15\n",
      "11 15\n",
      "11 14\n"
     ]
    }
   ],
   "source": [
    "#python에서는 전치 후치 연산자가 없다.\n",
    "n1,n2 = list(map(int,input().split()))\n",
    "print(n1+1, n2)\n",
    "print(n1+1, n2-1)"
   ]
  },
  {
   "cell_type": "markdown",
   "metadata": {},
   "source": [
    "#### 형성평가 5"
   ]
  },
  {
   "cell_type": "code",
   "execution_count": 21,
   "metadata": {},
   "outputs": [
    {
     "name": "stdout",
     "output_type": "stream",
     "text": [
      "150 35\n",
      "145 35\n",
      "0\n"
     ]
    }
   ],
   "source": [
    "n1,n2 = list(map(int,input().split()))\n",
    "n3,n4 = list(map(int,input().split()))\n",
    "\n",
    "print( int(n1>n3 and n2>n4))"
   ]
  },
  {
   "cell_type": "code",
   "execution_count": null,
   "metadata": {},
   "outputs": [],
   "source": []
  }
 ],
 "metadata": {
  "kernelspec": {
   "display_name": "Python 3",
   "language": "python",
   "name": "python3"
  },
  "language_info": {
   "codemirror_mode": {
    "name": "ipython",
    "version": 3
   },
   "file_extension": ".py",
   "mimetype": "text/x-python",
   "name": "python",
   "nbconvert_exporter": "python",
   "pygments_lexer": "ipython3",
   "version": "3.6.5"
  }
 },
 "nbformat": 4,
 "nbformat_minor": 2
}
