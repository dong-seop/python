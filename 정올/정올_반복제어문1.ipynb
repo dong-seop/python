{
 "cells": [
  {
   "cell_type": "markdown",
   "metadata": {},
   "source": [
    "#### 자가진단 1"
   ]
  },
  {
   "cell_type": "code",
   "execution_count": 1,
   "metadata": {},
   "outputs": [
    {
     "name": "stdout",
     "output_type": "stream",
     "text": [
      "1 2 3 4 5 6 7 8 9 10 11 12 13 14 15 "
     ]
    }
   ],
   "source": [
    "i = 1\n",
    "while i<=15:\n",
    "    print(i,end = \" \")\n",
    "    i+=1"
   ]
  },
  {
   "cell_type": "markdown",
   "metadata": {},
   "source": [
    "#### 자가진단 2"
   ]
  },
  {
   "cell_type": "code",
   "execution_count": 2,
   "metadata": {},
   "outputs": [
    {
     "name": "stdout",
     "output_type": "stream",
     "text": [
      "10\n",
      "55\n"
     ]
    }
   ],
   "source": [
    "num = int(input())\n",
    "i = 1\n",
    "tot=0\n",
    "while i<=num:\n",
    "    tot+=i\n",
    "    i+=1\n",
    "print(tot)"
   ]
  },
  {
   "cell_type": "markdown",
   "metadata": {},
   "source": [
    "#### 자가진단 3"
   ]
  },
  {
   "cell_type": "code",
   "execution_count": 5,
   "metadata": {},
   "outputs": [
    {
     "name": "stdout",
     "output_type": "stream",
     "text": [
      "number? 10\n",
      "positive number\n",
      "number? -10\n",
      "negative number\n",
      "number? 0\n"
     ]
    }
   ],
   "source": [
    "while(True):\n",
    "    n = int(input(\"number? \"))\n",
    "    if n <0:\n",
    "        print(\"negative number\")\n",
    "    elif n>0:\n",
    "        print(\"positive integer\")\n",
    "    else:\n",
    "        break"
   ]
  },
  {
   "cell_type": "markdown",
   "metadata": {},
   "source": [
    "#### 자가진단 4"
   ]
  },
  {
   "cell_type": "code",
   "execution_count": 7,
   "metadata": {},
   "outputs": [
    {
     "name": "stdout",
     "output_type": "stream",
     "text": [
      "1 2 3 4 5 6 7 8 9 10 100\n",
      "155\n",
      "14.1\n"
     ]
    }
   ],
   "source": [
    "nums = list(map(int, input().split(\" \")))\n",
    "tot = 0\n",
    "cnt = 0\n",
    "for i in nums:\n",
    "    tot+=i\n",
    "    cnt+=1\n",
    "    if i>=100:\n",
    "        break\n",
    "print(tot)\n",
    "print(\"{:.1f}\".format(tot/cnt))"
   ]
  },
  {
   "cell_type": "markdown",
   "metadata": {},
   "source": [
    "#### 자가진단 5"
   ]
  },
  {
   "cell_type": "code",
   "execution_count": 8,
   "metadata": {},
   "outputs": [
    {
     "name": "stdout",
     "output_type": "stream",
     "text": [
      "5\n",
      "12\n",
      "4\n",
      "21\n",
      "7\n",
      "100\n",
      "-1\n"
     ]
    }
   ],
   "source": [
    "while(True):\n",
    "    n= int(input())\n",
    "    if n %3==0:\n",
    "        print(n//3)\n",
    "    elif n ==-1:\n",
    "        break"
   ]
  },
  {
   "cell_type": "markdown",
   "metadata": {},
   "source": [
    "#### 자가진단 6"
   ]
  },
  {
   "cell_type": "code",
   "execution_count": 11,
   "metadata": {},
   "outputs": [
    {
     "name": "stdout",
     "output_type": "stream",
     "text": [
      "1. Korea\n",
      "2. USA\n",
      "3. Japan\n",
      "4. China\n",
      "number? 1\n",
      "\n",
      "Seoul\n",
      "\n",
      "1. Korea\n",
      "2. USA\n",
      "3. Japan\n",
      "4. China\n",
      "number? 5\n",
      "\n",
      "none\n",
      "\n"
     ]
    }
   ],
   "source": [
    "mystr =\"1. Korea\\n2. USA\\n3. Japan\\n4. China\\nnumber? \"\n",
    "while(True):\n",
    "    n = int(input(mystr))\n",
    "    if n==1:\n",
    "        print(\"\\nSeoul\\n\")\n",
    "    elif n==2:\n",
    "        print(\"\\nWashington\\n\")\n",
    "    elif n==3:\n",
    "        print(\"\\nTokyo\\n\")\n",
    "    elif n==4:\n",
    "        print(\"\\nBeijing\\n\")\n",
    "    else:\n",
    "        print(\"\\nnone\\n\")\n",
    "        break"
   ]
  },
  {
   "cell_type": "markdown",
   "metadata": {},
   "source": [
    "#### 형성평가 1"
   ]
  },
  {
   "cell_type": "code",
   "execution_count": 12,
   "metadata": {},
   "outputs": [
    {
     "name": "stdout",
     "output_type": "stream",
     "text": [
      "5\n",
      "1 2 3 4 5 "
     ]
    }
   ],
   "source": [
    "n = int(input())\n",
    "for i in range(1,n+1):\n",
    "    print(i,end=\" \")"
   ]
  },
  {
   "cell_type": "markdown",
   "metadata": {},
   "source": [
    "#### 형성평가 2"
   ]
  },
  {
   "cell_type": "code",
   "execution_count": 15,
   "metadata": {},
   "outputs": [
    {
     "name": "stdout",
     "output_type": "stream",
     "text": [
      "9 7 10 5 33 65 0\n",
      "odd : 5\n",
      "even : 1\n"
     ]
    }
   ],
   "source": [
    "nums = list(map(int,input().split(\" \")))\n",
    "nums = nums[:-1]\n",
    "nums_odd = [i for i in nums if i%2==1]\n",
    "nums_even = [i for i in nums if i%2==0]\n",
    "print(\"odd : {}\".format(len(nums_odd)))\n",
    "print(\"even : {}\".format(len(nums_even)))"
   ]
  },
  {
   "cell_type": "markdown",
   "metadata": {},
   "source": [
    "#### 형성평가 3"
   ]
  },
  {
   "cell_type": "code",
   "execution_count": 16,
   "metadata": {},
   "outputs": [
    {
     "name": "stdout",
     "output_type": "stream",
     "text": [
      "55 100 48 36 0 101\n",
      "sum : 239\n",
      "avg : 47.8\n"
     ]
    }
   ],
   "source": [
    "nums = list(map(int,input().split(\" \")))\n",
    "tot = 0\n",
    "cnt = 0\n",
    "for i in nums:\n",
    "    if  i<0 or i>100:\n",
    "        break\n",
    "    tot+=i\n",
    "    cnt+=1\n",
    "print(\"sum : {}\".format(tot))\n",
    "print(\"avg : {:.1f}\".format(tot/cnt))  "
   ]
  },
  {
   "cell_type": "markdown",
   "metadata": {},
   "source": [
    "#### 형성평가 4"
   ]
  },
  {
   "cell_type": "code",
   "execution_count": 18,
   "metadata": {},
   "outputs": [
    {
     "name": "stdout",
     "output_type": "stream",
     "text": [
      "1 2 3 4 5 6 7 8 9 10 0\n",
      "5\n"
     ]
    }
   ],
   "source": [
    "nums = list(map(int,input().split(\" \")))\n",
    "nums = nums[:-1]\n",
    "nums2 = [i for i in nums if i%3!=0 and i%5!=0]\n",
    "print(len(nums2))"
   ]
  },
  {
   "cell_type": "markdown",
   "metadata": {},
   "source": [
    "#### 형성평가 5"
   ]
  },
  {
   "cell_type": "code",
   "execution_count": 22,
   "metadata": {},
   "outputs": [
    {
     "name": "stdout",
     "output_type": "stream",
     "text": [
      "Base = 80\n",
      "Height = 100\n",
      "Triangle width = 4000.0\n",
      "Continue? y\n",
      "Base = 10\n",
      "Height = 10\n",
      "Triangle width = 50.0\n",
      "Continue? b\n"
     ]
    }
   ],
   "source": [
    "while(True):\n",
    "    base = int(input(\"Base = \"))\n",
    "    height = int(input(\"Height = \"))\n",
    "    print(\"Triangle width = {:.1f}\".format(base*height/2))\n",
    "    con = input(\"Continue? \").strip()\n",
    "    if con !='Y' and con !='y':\n",
    "        break"
   ]
  }
 ],
 "metadata": {
  "kernelspec": {
   "display_name": "Python 3",
   "language": "python",
   "name": "python3"
  },
  "language_info": {
   "codemirror_mode": {
    "name": "ipython",
    "version": 3
   },
   "file_extension": ".py",
   "mimetype": "text/x-python",
   "name": "python",
   "nbconvert_exporter": "python",
   "pygments_lexer": "ipython3",
   "version": "3.6.5"
  }
 },
 "nbformat": 4,
 "nbformat_minor": 2
}
