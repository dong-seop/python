{
 "cells": [
  {
   "cell_type": "markdown",
   "metadata": {},
   "source": [
    "##### 자가진단 1"
   ]
  },
  {
   "cell_type": "code",
   "execution_count": 11,
   "metadata": {},
   "outputs": [
    {
     "name": "stdout",
     "output_type": "stream",
     "text": [
      "100\n",
      "10 100\n"
     ]
    }
   ],
   "source": [
    "n = int(input())\n",
    "tot = 0\n",
    "for i,s in enumerate(range(1,n+1,2)):\n",
    "    tot+=s\n",
    "    if(tot>=n):\n",
    "        print(i+1,tot)\n",
    "        break"
   ]
  },
  {
   "cell_type": "markdown",
   "metadata": {},
   "source": [
    "##### enumerate example"
   ]
  },
  {
   "cell_type": "code",
   "execution_count": 9,
   "metadata": {},
   "outputs": [
    {
     "name": "stdout",
     "output_type": "stream",
     "text": [
      "0 5\n",
      "1 6\n",
      "2 235\n",
      "3 44\n",
      "4 634\n",
      "5 11\n"
     ]
    }
   ],
   "source": [
    "a = [5,6,235,44,634,11]\n",
    "for i,n in enumerate(a):\n",
    "    print(i,n)"
   ]
  },
  {
   "cell_type": "markdown",
   "metadata": {},
   "source": [
    "##### 자가진단 2"
   ]
  },
  {
   "cell_type": "code",
   "execution_count": 12,
   "metadata": {},
   "outputs": [
    {
     "name": "stdout",
     "output_type": "stream",
     "text": [
      "5\n",
      "*\n",
      "**\n",
      "***\n",
      "****\n",
      "*****\n"
     ]
    }
   ],
   "source": [
    "n = int(input())\n",
    "for i in range(1,n+1):\n",
    "    print('*' * i)"
   ]
  },
  {
   "cell_type": "markdown",
   "metadata": {},
   "source": [
    "##### 자가진단 3"
   ]
  },
  {
   "cell_type": "code",
   "execution_count": 14,
   "metadata": {},
   "outputs": [
    {
     "name": "stdout",
     "output_type": "stream",
     "text": [
      "3\n",
      "***\n",
      "**\n",
      "*\n",
      "*\n",
      "**\n",
      "***\n"
     ]
    }
   ],
   "source": [
    "n = int(input())\n",
    "for i in range(n,0,-1):\n",
    "    print('*' * i)\n",
    "for i in range(1,n+1):\n",
    "    print('*' * i)"
   ]
  },
  {
   "cell_type": "markdown",
   "metadata": {},
   "source": [
    "##### 자가진단 4"
   ]
  },
  {
   "cell_type": "code",
   "execution_count": 23,
   "metadata": {},
   "outputs": [
    {
     "name": "stdout",
     "output_type": "stream",
     "text": [
      "3\n",
      "***\n",
      " **\n",
      "  *\n"
     ]
    }
   ],
   "source": [
    "n = int(input())\n",
    "for i in range(n,0,-1):\n",
    "    print(\"{}{}\".format(\" \"*(n-i), \"*\"*i))"
   ]
  },
  {
   "cell_type": "markdown",
   "metadata": {},
   "source": [
    "##### 자가진단 5"
   ]
  },
  {
   "cell_type": "code",
   "execution_count": 27,
   "metadata": {},
   "outputs": [
    {
     "name": "stdout",
     "output_type": "stream",
     "text": [
      "3\n",
      "*****\n",
      " ***\n",
      "  *\n"
     ]
    }
   ],
   "source": [
    "n = int(input())\n",
    "cnt = 0\n",
    "for i in range(2*n-1,0,-2):\n",
    "    print(\"{}{}\".format(\" \"*cnt, \"*\"*i))\n",
    "    cnt+=1"
   ]
  },
  {
   "cell_type": "markdown",
   "metadata": {},
   "source": [
    "##### 자가진단 6"
   ]
  },
  {
   "cell_type": "code",
   "execution_count": 31,
   "metadata": {},
   "outputs": [
    {
     "name": "stdout",
     "output_type": "stream",
     "text": [
      "5\n",
      "ABCDE\n",
      "FGHI\n",
      "JKL\n",
      "MN\n",
      "O\n"
     ]
    }
   ],
   "source": [
    "n = int(input())\n",
    "cnt = 0\n",
    "for i in range(n,0,-1):\n",
    "    for j in range(i):\n",
    "        print(chr(65+cnt),end=\"\")\n",
    "        cnt+=1\n",
    "    print(\"\")"
   ]
  },
  {
   "cell_type": "markdown",
   "metadata": {},
   "source": [
    "##### 자가진단 7"
   ]
  },
  {
   "cell_type": "code",
   "execution_count": 46,
   "metadata": {},
   "outputs": [
    {
     "name": "stdout",
     "output_type": "stream",
     "text": [
      "3\n",
      "1 2 3 A \n",
      "4 5 B C \n",
      "6 D E F \n"
     ]
    }
   ],
   "source": [
    "n = int(input())\n",
    "cnt1 = 1\n",
    "cnt2 = 1\n",
    "for i in range(n,0,-1): \n",
    "    for j in range(i): \n",
    "        print(cnt1, end=\" \")\n",
    "        cnt1+=1\n",
    "    for j in range(n-i+1):\n",
    "        print(chr(64+cnt2),end=\" \")\n",
    "        cnt2+=1\n",
    "    print()"
   ]
  }
 ],
 "metadata": {
  "kernelspec": {
   "display_name": "Python 3",
   "language": "python",
   "name": "python3"
  },
  "language_info": {
   "codemirror_mode": {
    "name": "ipython",
    "version": 3
   },
   "file_extension": ".py",
   "mimetype": "text/x-python",
   "name": "python",
   "nbconvert_exporter": "python",
   "pygments_lexer": "ipython3",
   "version": "3.6.5"
  }
 },
 "nbformat": 4,
 "nbformat_minor": 2
}
