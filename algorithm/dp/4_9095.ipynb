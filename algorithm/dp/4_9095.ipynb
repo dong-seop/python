{
 "cells": [
  {
   "cell_type": "code",
   "execution_count": 1,
   "metadata": {},
   "outputs": [
    {
     "name": "stdout",
     "output_type": "stream",
     "text": [
      "10\n",
      "1\n",
      "1\n",
      "2\n",
      "2\n",
      "3\n",
      "4\n",
      "4\n",
      "7\n",
      "5\n",
      "13\n",
      "6\n",
      "24\n",
      "7\n",
      "44\n",
      "8\n",
      "81\n",
      "9\n",
      "149\n",
      "10\n",
      "274\n"
     ]
    }
   ],
   "source": [
    "for i in range (int(input())):\n",
    "    n = int(input())\n",
    "    a = [1, 2, 4]\n",
    "    for i in range (n-1):\n",
    "        a.append(a[i] + a[i+1] + a[i+2])\n",
    "    print(a[len(a)-3])"
   ]
  },
  {
   "cell_type": "code",
   "execution_count": null,
   "metadata": {},
   "outputs": [],
   "source": []
  }
 ],
 "metadata": {
  "kernelspec": {
   "display_name": "Python 3",
   "language": "python",
   "name": "python3"
  },
  "language_info": {
   "codemirror_mode": {
    "name": "ipython",
    "version": 3
   },
   "file_extension": ".py",
   "mimetype": "text/x-python",
   "name": "python",
   "nbconvert_exporter": "python",
   "pygments_lexer": "ipython3",
   "version": "3.6.5"
  }
 },
 "nbformat": 4,
 "nbformat_minor": 2
}
