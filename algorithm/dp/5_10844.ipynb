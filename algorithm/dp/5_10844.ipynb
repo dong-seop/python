{
 "cells": [
  {
   "cell_type": "code",
   "execution_count": 23,
   "metadata": {},
   "outputs": [
    {
     "name": "stdout",
     "output_type": "stream",
     "text": [
      "3\n",
      "32\n"
     ]
    }
   ],
   "source": [
    "dp =[[0]*10]\n",
    "dp.append([0,1,1,1,1,1,1,1,1,1])\n",
    "n = int(input())\n",
    "for i in range(2,n+1):\n",
    "    cnt=[0]*10\n",
    "    \n",
    "    for j in range(0,10):\n",
    "        if j==0:    \n",
    "            cnt[j] = dp[i-1][j+1]\n",
    "        elif j==9:\n",
    "            cnt[j] = dp[i-1][j-1]\n",
    "        else:\n",
    "            cnt[j] = (dp[i-1][j+1] + dp[i-1][j-1]) % 1000000000\n",
    "            \n",
    "    dp.append(cnt)\n",
    "print(sum(dp[n])%1000000000)"
   ]
  },
  {
   "cell_type": "code",
   "execution_count": 24,
   "metadata": {},
   "outputs": [
    {
     "name": "stdout",
     "output_type": "stream",
     "text": [
      "3\n",
      "32\n"
     ]
    }
   ],
   "source": [
    "n = int(input())\n",
    "a = [0, 1, 1, 1, 1, 1, 1, 1, 1, 1]\n",
    "b = [0]*10\n",
    "for i in range (n-1):\n",
    "    for j in range(1, 9):\n",
    "        b[j] = a[j-1]+a[j+1]\n",
    "    b[0] = a[1]\n",
    "    b[9] = a[8]\n",
    "    a, b = b, a\n",
    "print(sum(a)%1000000000)"
   ]
  },
  {
   "cell_type": "code",
   "execution_count": null,
   "metadata": {},
   "outputs": [],
   "source": []
  }
 ],
 "metadata": {
  "kernelspec": {
   "display_name": "Python 3",
   "language": "python",
   "name": "python3"
  },
  "language_info": {
   "codemirror_mode": {
    "name": "ipython",
    "version": 3
   },
   "file_extension": ".py",
   "mimetype": "text/x-python",
   "name": "python",
   "nbconvert_exporter": "python",
   "pygments_lexer": "ipython3",
   "version": "3.6.5"
  }
 },
 "nbformat": 4,
 "nbformat_minor": 2
}
