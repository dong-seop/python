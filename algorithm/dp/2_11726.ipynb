{
 "cells": [
  {
   "cell_type": "code",
   "execution_count": 4,
   "metadata": {},
   "outputs": [
    {
     "name": "stdout",
     "output_type": "stream",
     "text": [
      "10\n",
      "89\n"
     ]
    }
   ],
   "source": [
    "# https://www.acmicpc.net/problem/11726\n",
    "n = int(input())\n",
    "a = [1, 1]\n",
    "for i in range (n-1):\n",
    "    a.append(a[i] + a[i+1])\n",
    "print(a[len(a)-1] % 10007)"
   ]
  }
 ],
 "metadata": {
  "kernelspec": {
   "display_name": "Python 3",
   "language": "python",
   "name": "python3"
  },
  "language_info": {
   "codemirror_mode": {
    "name": "ipython",
    "version": 3
   },
   "file_extension": ".py",
   "mimetype": "text/x-python",
   "name": "python",
   "nbconvert_exporter": "python",
   "pygments_lexer": "ipython3",
   "version": "3.6.5"
  }
 },
 "nbformat": 4,
 "nbformat_minor": 2
}
