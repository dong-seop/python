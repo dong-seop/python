{
 "cells": [
  {
   "cell_type": "markdown",
   "metadata": {},
   "source": [
    "##### 1979. 어디에 단어가 들어갈 수 있을까"
   ]
  },
  {
   "cell_type": "code",
   "execution_count": null,
   "metadata": {},
   "outputs": [
    {
     "name": "stdout",
     "output_type": "stream",
     "text": [
      "5 3\n"
     ]
    }
   ],
   "source": [
    "N,LEN = list(map(int,input().split()))\n",
    "puz = list()\n",
    "for i in range(N):\n",
    "    puz.append(list(map(int,input().split())))\n",
    "\n",
    "matched = 0\n",
    "cnt = 0\n",
    "for i in range(N):\n",
    "    j=0\n",
    "    while j<N:\n",
    "        if puz[i][j]==0:\n",
    "            j+=1\n",
    "            continue        \n",
    "        \n",
    "        #우측 탐색\n",
    "        cnt = 0\n",
    "        for k in range(j,N):\n",
    "            if puz[i][k]:\n",
    "                if cnt==LEN:\n",
    "                    cnt=0\n",
    "                    break\n",
    "                cnt+=1\n",
    "        if cnt == LEN:\n",
    "            print(i,j,k)\n",
    "            matched+=1\n",
    "        j= k+1\n",
    "            \n",
    "print(matched)"
   ]
  },
  {
   "cell_type": "code",
   "execution_count": null,
   "metadata": {},
   "outputs": [],
   "source": [
    "N,LEN = list(map(int,input().split()))\n",
    "puz = list()\n",
    "for i in range(N):\n",
    "    puz.append(list(map(int,input().split())))\n",
    "\n",
    "matched = 0\n",
    "cnt = 0\n",
    "\n",
    "\n",
    "\n",
    "\n",
    "for i in range(N):\n",
    "    j=0\n",
    "    while j<N:\n",
    "        # 1이 아닐 때\n",
    "        if puz[i][j]==0:\n",
    "            j+=1\n",
    "            continue        \n",
    "        #우측 탐색\n",
    "        # 0 0 1 1 1\n",
    "        cnt=0\n",
    "        for k in range(j,N):\n",
    "            if puz[i][k]==1:\n",
    "                cnt+=1\n",
    "                if cnt>LEN:\n",
    "                    break\n",
    "            else:\n",
    "                break\n",
    "            \n",
    "        if cnt==LEN:\n",
    "            matched+=1\n",
    "        j=k+1\n",
    "print(matched)\n",
    " "
   ]
  },
  {
   "cell_type": "code",
   "execution_count": null,
   "metadata": {},
   "outputs": [],
   "source": [
    "N,LEN = list(map(int,input().split()))\n",
    "puz = list()\n",
    "for i in range(N):\n",
    "    puz.append(list(map(int,input().split())))\n",
    "\n",
    "matched = 0\n",
    "cnt = 0\n",
    "\n",
    "\n",
    "\n",
    "\n",
    "for i in range(N):\n",
    "    j=0\n",
    "    while j<N:\n",
    "        # 1이 아닐 때\n",
    "        if puz[i][j]==0:\n",
    "            j+=1\n",
    "            continue        \n",
    "        #우측 탐색\n",
    "        k=j\n",
    "        while (k<N and puz[i][k]):\n",
    "            cnt=0\n",
    "            \n",
    "            \n",
    "        for k in range(j,N):\n",
    "            if puz[i][k]==1:\n",
    "                cnt+=1\n",
    "                if cnt>LEN:\n",
    "                    break\n",
    "            else:\n",
    "                break\n",
    "            \n",
    "        if cnt==LEN:\n",
    "            matched+=1\n",
    "        j=k+1\n",
    "print(matched)\n",
    " "
   ]
  }
 ],
 "metadata": {
  "kernelspec": {
   "display_name": "Python 3",
   "language": "python",
   "name": "python3"
  },
  "language_info": {
   "codemirror_mode": {
    "name": "ipython",
    "version": 3
   },
   "file_extension": ".py",
   "mimetype": "text/x-python",
   "name": "python",
   "nbconvert_exporter": "python",
   "pygments_lexer": "ipython3",
   "version": "3.6.5"
  }
 },
 "nbformat": 4,
 "nbformat_minor": 2
}
